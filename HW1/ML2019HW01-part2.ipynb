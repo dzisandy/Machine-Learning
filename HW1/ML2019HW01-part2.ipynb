{
 "cells": [
  {
   "cell_type": "markdown",
   "metadata": {},
   "source": [
    "# Home Assignment No. 1: Part 2 (Theory)"
   ]
  },
  {
   "cell_type": "markdown",
   "metadata": {},
   "source": [
    "In this part of the homework you are to solve several simple theoretical problems related to machine learning algorithms.\n",
    "* For every separate problem you can get only 0 points or maximal points for this problem. There are **NO INTERMEDIATE scores**.\n",
    "* Your solution must me **COMPLETE**, i.e. contain all required formulas/proofs/detailed explanations.\n",
    "* You must write your solution for any problem just right after the words **YOUR SOLUTION**. Attaching pictures of your handwriting is allowed, but **highly discouraged**.\n",
    "* The are two problems with \\* mark - they are not obligatory. You can get **EXTRA POINTS** for solving them.\n",
    "## $\\LaTeX$ in Jupyter\n",
    "Jupyter has constantly improving $\\LaTeX$ support. Below are the basic methods to\n",
    "write **neat, tidy, and well typeset** equations in your notebooks:\n",
    "* to write an **inline** equation use \n",
    "```markdown\n",
    "$ you latex equation here $\n",
    "```\n",
    "* to write an equation, that is **displayed on a separate line** use \n",
    "```markdown\n",
    "$$ you latex equation here $$\n",
    "```\n",
    "* to write a **block of equations** use \n",
    "```markdown\n",
    "\\begin{align}\n",
    "    left-hand-side\n",
    "        &= right-hand-side on line 1\n",
    "        \\\\\n",
    "        &= right-hand-side on line 2\n",
    "        \\\\\n",
    "        &= right-hand-side on the last line\n",
    "\\end{align}\n",
    "```\n",
    "The **ampersand** (`&`) aligns the equations horizontally and the **double backslash**\n",
    "(`\\\\`) creates a new line."
   ]
  },
  {
   "cell_type": "markdown",
   "metadata": {},
   "source": [
    "## Task 1. Linear Ridge Regression (1 point)\n",
    "Let us consider the problem of linear ridge regression for data $(x_{1},y_{1}),\\dots,(x_{n},y_{n})\\in\\mathbb{R}^{d\\times 1}$. Let the objects have positive **sample weights** $v_{i}>0$, i.e. the optimization problem is\n",
    "$$\\sum_{i=1}^{n}v_{i}\\cdot L(y_{i}, \\hat{y}_{i})+\\frac{\\lambda}{2}\\|w\\|_{2}^{2}=\\sum_{i=1}^{n}v_{i}\\cdot (\\langle\\boldsymbol{w},\\boldsymbol{x}_{i}\\rangle-y_{i})^{2}+\\frac{\\lambda}{2}\\|w\\|_{2}^{2}\\rightarrow \\min_{\\boldsymbol{w}}.$$\n",
    "This problem reduces to classical linear ridge regression when $v_{i}\\equiv 1$. The matrix form of the problem is\n",
    "$$(Xw-y)^{\\top}V(Xw-y)+\\frac{\\lambda}{2}w^{\\top}w\\rightarrow\\min_{w},$$\n",
    "where $V=V^{\\top}\\in\\mathbb{R}^{n\\times n}$ is the diagonal matrix with diagonal elements $v_{1},\\dots, v_{n}$. Note that the quadratic problem is still convex (w.r.t. $\\boldsymbol{w}$), thus, the solution is unique. Solve this problem for any (symmetric) positive-definite matrix $V$ (not just diagonal) and provide the answer in the matrix form.\n",
    "### Your solution:\n",
    "1. Let's rewrite our function $$F(w) = (Xw-y)^{\\top}V(Xw-y)+\\frac{\\lambda}{2}w^{\\top}w = (w^\\top X^\\top - y^\\top)V(Xw-y) + \\frac{\\lambda}{2}w^{\\top}w = w^\\top X^\\top V (Xw - y) - y^\\top V(Xw - y) +  \\frac{\\lambda}{2}w^{\\top}w = w^\\top X^\\top V Xw - w^\\top X^\\top V y - y^\\top V X w + y^\\top V y + \\frac{\\lambda}{2}w^{\\top}w, $$\n",
    "then, assuming that fact that for $V$, which is symmetric positive-definite matrix we have $V^\\top = V$: \n",
    "$$\\nabla F(w) = (X^\\top V X + (X^\\top V X)^\\top) w - X^\\top V y - (y^\\top V X)^\\top + \\lambda I w = (2 X^\\top V X + \\lambda I) - 2X^\\top V y =  0,$$\n",
    "2. Then, the answer in matrix form is:\n",
    "$$w = (2 X^\\top V X + \\lambda I)^{-1} 2 X^\\top V y$$"
   ]
  },
  {
   "cell_type": "markdown",
   "metadata": {},
   "source": [
    "## Task 2. Logistic Regression (1 point)\n",
    "Let us consider the case when in the problem of binary classification the training set is lineary separable. Show that in this case the optimization problem for logistic regression **without L2-regularization** does not have optimum.\n",
    "### Your solution:\n",
    "1. For regularized logistic regression we can write:\n",
    "$$L(w) = \\sum\\limits_{i = 1}^m \\log(1 + \\exp(-(w^\\top x_i)y_i)) + \\frac{\\lambda}{2} \\|w\\|^2 \\rightarrow \\min\\limits_w$$\n",
    "\n",
    "2. So for logistic regression, but without regularization we can write:\n",
    "$$L(w) = \\sum\\limits_{i = 1}^m \\log(1 + \\exp(-(w^\\top x_i)y_i)) \\rightarrow \\min\\limits_w$$\n",
    "\n",
    "3. The main goal of regularization is to fight an overfitting: to prevent finding the solution with huge weights. We can find such weights for lineary separable train set, such as $-(w^\\top x_i)y_i$ are positive for all training examples. Without regularization we can increase parameters, which will cause increase modulus of expression inside exponenta. That will cause a decrease of $L(w) \\rightarrow$ so the $L(w)$ is unbounded if we tend weights to infinity. So from that fact comes, that if we tend parameters to infinity, we achieve maximum of likelihood, so we doesn't receive optimum.\n",
    "\n"
   ]
  },
  {
   "cell_type": "markdown",
   "metadata": {},
   "source": [
    "## Task 3. Bayesian Naive Classifier (1 point)\n",
    "Show that in case of $d$ binary-valued features $x_{j}\\in\\{0, 1\\}$ (for $j=1,2,\\dots,d$) Bayesian Naive Classifier's decision rule is linear.\n",
    "### Your solution:\n",
    "1. To show that decision rule is linear we must prove, that for binary vector $x = (x_1, \\dots, x_d)$ we have linear desicion rule for classification with classes $C_k$ with some weights $w_0, \\dots, w_d$, which means a linear dependency respect to $x_j$ in conditional probability $p(C_k|x)$ in log-scale. For binary-valued features we can write a conditional probability: $$ p(C_k|x) \\sim p(C_k)p(x|C_k) = p(C_k)\\prod_{j=1}^{d}p_{kj}^{x_j}(1-p_{kj})^{(1-x_j)} $$, where \n",
    "$p_{kj}$ is the probability of class $C_{k}$ generating the term $x_{j}$.\n",
    "\n",
    "2. In log-scale, we can write decision rule as follows:\n",
    "$$f(x) = \\log p(C_k|x) \\sim \\log (p(C_k)\\prod_{j=1}^{d}p_{kj}^{x_j}(1-p_{kj})^{(1-x_j)}) = log(p(C_k)) + \\sum \\limits_{j=1}^{d}(x_i \\log p_{kj} + (1-x_j)\\log(1 - p_{kj})) = \\log p(C_k) + \\sum \\limits_{j=1}^{d}(x_j (\\log p_{kj} - \\log(1 - p_{kj})) + \\log(1-p_{kj})) = \\log p(C_k) + \\sum \\limits_{j=1}^{d}(x_j \\log \\frac{p_{kj}}{\\log(1 - p_{kj})} + \\log(1-p_{kj})), $$\n",
    "from last equation we see, that probability in log-scale is linear respect to $x_j$, so we have linear decision rule.\n"
   ]
  },
  {
   "cell_type": "markdown",
   "metadata": {},
   "source": [
    "## Task 4. Nearest Neighbors (1 point)\n",
    "Consider the 1-nearest-neighbor classifier applied to multiclass classification problem. Let's denote the classifier fitted on data $X$ by $f_X(\\cdot)$.\n",
    "\n",
    "The formula for complete **leave-k-out cross-validation** on data sample $X^{n}$ is defined as\n",
    "$$L_{k}OCV=\\frac{1}{C_{n}^{k}}\\bigg[\\sum\\limits_{X\\subset \\mathcal{P}(X^{n})\\wedge |X|=k}\\frac{1}{k}\\bigg(\\sum_{i\\in X}[y_{i}\\neq f_{X^{n}\\setminus X}( x_{i})]\\bigg)\\bigg],$$\n",
    "where $\\mathcal{P}(X^{n})$ is the set of all subsets of $X^{n}$. For all $i=1,2\\dots,n$ denote the label of $m$-th closest neighbor of $x_{i}$ in $X^{n}\\setminus \\{x_{i}\\}$ by $y_{i}^{m}$. Show that \n",
    "$$L_{k}OCV=\\sum_{m=1}^{k}\\underbrace{\\frac{1}{n}\\sum_{i=1}^{n}[y_{i}\\neq y_{i}^{m}]}_{K_{m}(X^{n})}\\frac{C_{n-1-m}^{n-k-1}}{C_{n-1}^{k-1}},$$\n",
    "where $K_{m}(X^{n})$ is called the compactness profile of $X^{n}$, i.e. the fraction of objects whose $m$-th nearest neighbor has different label. For convenience assume that all the pairwise distances between objects are different.\n",
    "### Your solution:"
   ]
  },
  {
   "cell_type": "markdown",
   "metadata": {},
   "source": [
    "## Task 5. Bootstrap (1 point)\n",
    "Let the subsample $\\hat{X}^{n}$ of size $n$ be generated from sample $X^{n}=\\{\\boldsymbol{x}_{1},\\dots\\boldsymbol{x}_{n}\\}$ by bootstrap procedure. Find the probability of object $x_{i}$ to be present in $\\hat{X}^{n}$ and compute the limit of this probability for $n\\rightarrow\\infty$.\n",
    "### Your solution:\n",
    "1. Bootstrap procedure is equal in terms of statistics to the case, where we should take n elements from set of n elements with repetition (so after choosing $x_i$ we return it back to a set). So for every element $x_i$ of our set probability to chose it are equal and are $P_{x_i} = \\frac{1}{n}$.\n",
    "2. So we want to generate a subset $\\hat{X}^n$, without observed $x_i$ included. For that procedure, we need to choose not \"our\" $x_i$. For every round of choosing it happens with equal probability of $P_{\\hat{x_i}} = 1 - P_{x_i} = 1 - \\frac{1}{n}$, so the needed probability to receive the given subset without \"our\" $x_i$ is: $$P_{\\hat{X}^n} = (P_{\\hat{x_i}})^n = (1 - \\frac{1}{n})^n$$.\n",
    "3. The answer for our problem is a probability of a subset with \"our\" $x_i$, that equals: $$P_{final} = 1 - P_{\\hat{X}^n} = 1 - (1 - \\frac{1}{n})^n$$\n",
    "4. Reviewing assimptotical case, we need to find the limit:\n",
    "$$\\lim\\limits_{n \\rightarrow \\infty} (1 - (1 - \\frac{1}{n})^n) = 1 - \\lim\\limits_{n \\rightarrow \\infty}(1 - \\frac{1}{n})^n  = |\\text{assuming} \\lim\\limits_{n \\rightarrow \\infty}(1 + \\frac{\\alpha}{n})^n = e^{\\alpha}| =   1 - e^{-1}$$"
   ]
  },
  {
   "cell_type": "markdown",
   "metadata": {},
   "source": [
    "## Task 6. Decision Tree Leaves (1+1+1=3 points)\n",
    "Consider a leaf of a binary decision tree which consists of object-label pairs $(x_{1},y_{1}),\\dots,(x_{n},y_{n})$. The prediction $\\hat{y}$ of this leaf is defined to minimize the loss on the training sample, i.e. $\\frac{1}{n}\\sum_{i=1}^{n}L(y_{i}, \\hat{y})\\rightarrow\\min$. We consider three cases:\n",
    "1. Regression tree ($y_{i}\\in\\mathbb{R}$), absolute loss function $L(y,\\hat{y})=|y-\\hat{y}|$. The optimal prediction that minimizes $\\frac{1}{n}\\sum_{i=1}^{n}|y_{i}-\\hat{y}|$ is the median of labels: \n",
    "$$\\hat{y}=\\text{median}(y_{1},\\dots,y_{n}).$$\n",
    "In this case, for simplicity you may assume that $n$ is even (or odd, as you wish).\n",
    "2. Regression tree ($y_{i}\\in\\mathbb{R}$), squared loss function $L(y,\\hat{y})=(y-\\hat{y})^{2}$. The optimal prediction that minimizes $\\frac{1}{n}\\sum_{i=1}^{n}(y_{i}-\\hat{y})^{2}$ is the mean of labels:\n",
    "$$\\hat{y}=\\frac{1}{n}\\sum_{i=1}^{n}y_i.$$\n",
    "3. Classification tree for K classes ($y_{i}\\in\\{1,2,\\dots,K\\}$), zero-one loss $L(y,\\hat{y})=[y\\neq \\hat{y}]$. The optimal prediction that minimizes $\\frac{1}{n}\\sum_{i=1}^{n}[y_{i}\\neq\\hat{y}]$ is the most frequent label:\n",
    "$$\\hat{y}=\\underset{k=1,2,\\dots,K}{\\operatorname{argmax}}\\frac{1}{n}\\sum_{i=1}^{n}[y_{i}=k].$$\n",
    "In this case, for simplicity you may assume that there is only one most frequent label.\n",
    "\n",
    "Suppose that that instead of using optimal prediction for this leaf we output the label from $y_{1},\\dots,y_{n}$ at random. What will happen with the (expected) loss on the training sample (will it increase/decrease/not change)? Prove your answer (separately for every case).\n",
    "### Your solution:"
   ]
  },
  {
   "cell_type": "markdown",
   "metadata": {},
   "source": [
    "## Task 7*. Classification (1 point)\n",
    "Let objects $\\boldsymbol{x}_{1},\\dots,\\boldsymbol{x}_{n}$ have binary labels $y_{1}, y_{2},\\dots,y_{n}\\in\\{0,1\\}$. Let the classifier $f$ assign to objects probabilities of being from class $1$. Without loss of generality assume that $f(\\boldsymbol{x_{i}})<f(\\boldsymbol{x_{j}})$ for all $i<j$. Denote the number of objects of $X^{n}$ from class $1$ by $n_{1}=\\sum_{i=1}^{n}[y_{i}=1]$. Show that \n",
    "$$S_{\\text{ROC}}(f,X^{n})=\\frac{1}{n_{1}(n-n_{1})}\\sum_{i<j}[y_{i}<y_{j}]$$\n",
    "where $S_{\\text{ROC}}(f,X^{n})$ is the Area Under ROC of classifier $f$.\n",
    "### Your solution:"
   ]
  },
  {
   "cell_type": "markdown",
   "metadata": {},
   "source": [
    "## Task 8. Kernel Regression (1 point)\n",
    "Recall that the prediction of Kernel Ridge Regression fitted on data $X^{n}$ with the kernel $K(\\cdot, \\cdot)$ has the form $\\mathcal{K}(x)=\\sum_{i=1}^{n}\\alpha_{i}K(x, x_{i})$, where $\\alpha=(K+\\lambda I)^{-1}Y$ ($K_{ij}=K(x_{i},x_{j})$). The time complexity of computation of a prediction $\\mathcal{K}(x)$ for any point $x$ is $O(n)$, i.e. grows linearly with the size of the training set.\n",
    "\n",
    "Consider the bilinear kernel $K(x, x')=\\langle x, x'\\rangle$. For this kernel, the Kernel Regression is known to turn into simple linear ridge regression. However, for linear regression the computation time of prediction $\\mathcal{R}(x)=\\sum_{j=1}^{d}\\beta_{j}x^{j}$ is $O(d)$, where $d$ is the dimension of the feature space and does not grow with the training, which is a little bit controversary to the previous paragraph.\n",
    "\n",
    "In this task in order to show that the kernel regression with the bilinear kernel is indeed the linear ridge regression, you have to prove that the predictions exactly match by **direct comparison**.\n",
    "### Your solution:\n",
    "1. Firstly, let's look at usual linear ridge regression in dual representation: $$ \\hat{f(x)} = \\sum\\limits_{i=1}^{m} \\alpha_i (x x_i^\\top),$$ with $$ \\alpha = (XX^\\top + \\lambda I)^{-1} Y$$\n",
    "\n",
    "2. For kernel ridge regression we can write: $$ \\hat{f(x)} = \\sum\\limits_{i=1}^{m} \\alpha_i  (\\Phi(x) \\Phi(x_i)^\\top) = \\sum_{i=1}^{n}\\alpha_{i}K(x, x_{i}),$$\n",
    "with $$ \\alpha = (\\Phi(X) \\ \\Phi(X)^\\top + \\lambda I)^{-1}Y = (K + \\lambda I)^{-1} Y,$$\n",
    "where $$ K = \\{\\Phi(x_i) \\  \\Phi(x_j)^\\top\\}_{i,j = 1}^{m} = \\{K(x_i,x_j)\\}_{i,j = 1}^{m}.$$ In our case:\n",
    "$$K = \\{K(x_i,x_j)\\}_{i,j = 1}^{m} = \\{\\langle x_i, x_j\\rangle \\}_{i,j = 1}^{m}$$\n",
    "\n",
    "3. So let's look at the elements of matrix $XX^\\top$. Let's denote $XX^\\top = A$ - matrix $m \\times m$-sized, then, denoting $A_{ij}$ as the element of our matrix $A$ we assume, that $A_{ij} = \\langle x_i, x_j\\rangle$. From this fact we assume, that this is exactly our kernel $K$ from previous paragraph. From this comparison we can see it's indeed the linear ridge regression, because formulas are exactly the same in both cases."
   ]
  },
  {
   "cell_type": "markdown",
   "metadata": {},
   "source": [
    "## Task 9. Kernel Methods (1 point)\n",
    "Prove that the function $K(x,x')=\\exp(-\\|x-x'\\|^{2})$ is positive definite kernel.\n",
    "### Your solution:\n",
    "1. Let's note, that  $$\\|x - x'\\|^2 = \\|x\\|^2 -  2 x^\\top x' +  \\|x'\\|^2$$\n",
    "then:\n",
    "$$K(x,x')=\\exp(-\\|x-x'\\|^{2}) = \\exp(-\\|x\\|^2 + 2 x^\\top x' - \\|x'\\|^2) = \\exp(-\\|x\\|^2)\\exp(2x^\\top x') \\exp(-\\|x'\\|^2)$$\n",
    "Defining the function $f(x) = \\exp(-\\|x\\|^2)$ - arbitrary function. So from the properties of positive definite kernels to prove that $K(x,x')$ positive definite kernel, we need to prove that $\\hat{K}(x,x') = \\exp(2x^\\top x') $ is positive definite kernel.\n",
    "2. Then:\n",
    "$$\\exp(2x^\\top x') = 1 + 2 x^\\top x' + \\frac{2^2}{2!} (x^\\top x')^2 + \\dots = \\sum\\limits_{i=0}^{\\infty} \\frac{(2x^\\top x')^i}{i!} $$\n",
    "\n",
    "3. Gramm matrix, corresponding to linear kernel $x^\\top x'$ is a semi-positive definite matrix $\\rightarrow$ from previous paragraph we see, that from that fact also comes, that matrix, corresponding to $\\hat{K}(x,x')$ is also semi-positive $\\rightarrow \\hat{K}(x,x')$ - pd kernel $\\rightarrow$ $K(x,x')$ - pd kernel."
   ]
  },
  {
   "cell_type": "markdown",
   "metadata": {},
   "source": [
    "## Task 10*. Support Vector Machine (1 point)\n",
    "Show that for two-class SVM classifier the following upper bound on accuracy leave-one-out-cross-validation estimate holds true:\n",
    "$$L_{1}OCV=\\frac{1}{n}\\sum_{i=1}^{n}[y_{i}\\neq f_{i}(x_{i})]\\leq \\frac{|SV|}{n},$$\n",
    "where for all $i=1,\\dots,n$ $f_{i}(x_{i})$ is SVM fitted on the entire data without observation $(x_{i},y_{i})$ and $|SV|$ is the number of support vectors of SVM fit on the entire data.\n",
    "### Your solution:"
   ]
  },
  {
   "cell_type": "markdown",
   "metadata": {},
   "source": [
    "The end."
   ]
  }
 ],
 "metadata": {
  "kernelspec": {
   "display_name": "Python 3",
   "language": "python",
   "name": "python3"
  },
  "language_info": {
   "codemirror_mode": {
    "name": "ipython",
    "version": 3
   },
   "file_extension": ".py",
   "mimetype": "text/x-python",
   "name": "python",
   "nbconvert_exporter": "python",
   "pygments_lexer": "ipython3",
   "version": "3.6.5"
  }
 },
 "nbformat": 4,
 "nbformat_minor": 2
}
