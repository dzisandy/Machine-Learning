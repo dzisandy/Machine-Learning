{
 "cells": [
  {
   "cell_type": "markdown",
   "metadata": {},
   "source": [
    "# Home Assignment No. 3: Part 1 \n",
    "## Not done yet: 1(done, check), 2.1(done,check), 2.2(done,check), 2.3(not done), 3.1(done,check), 3.2(done,check), 4.1(done,check), 4.2(done,check)"
   ]
  },
  {
   "cell_type": "markdown",
   "metadata": {},
   "source": [
    "In this part of the homework you are to solve several problems related to machine learning algorithms.\n",
    "* For every separate problem you can get only 0 points or maximal points for this problem. There are **NO INTERMEDIATE scores**.\n",
    "* Your solution must me **COMPLETE**, i.e. contain all required formulas/proofs/detailed explanations.\n",
    "* You must write your solution for any problem just right after the words **BEGIN SOLUTION**. Attaching pictures of your handwriting is allowed, but **highly discouraged**.\n",
    "* If you want an easy life, you have to use **BUILT-IN METHODS** of `sklearn` library instead of writing tons of our yown code. There exists a class/method for almost everything you can imagine (related to this homework).\n",
    "* To do some tasks in this part of homework, you have to write **CODE** directly inside specified places inside notebook **CELLS**.\n",
    "* In some problems you may be asked to provide short discussion of the results. In this cases you have to create **MARKDOWN** cell with your comments right after the your code cell.\n",
    "* Your **SOLUTION** notebook **MUST BE REPRODUCIBLE**, i.e. if the reviewer decides to execute `Kernel` -> `Restart Kernel and Run All Cells`, after all the computation he will obtain exactly the same solution (with all the corresponding plots) as in your uploaded notebook. For this purpose, we suggest to fix random `seed` or (better) define `random_state=` inside every algorithm that uses some pseudorandomness.\n",
    "\n",
    "* Your code must be clear to the reviewer. For this purpose, try to include neccessary comments inside the code. But remember: **GOOD CODE MUST BE SELF-EXPLANATORY** without any additional comments.\n",
    "* The are problems with \\* mark - they are not obligatory. You can get **EXTRA POINTS** for solving them.\n",
    "## $\\LaTeX$ in Jupyter\n",
    "Jupyter has constantly improving $\\LaTeX$ support. Below are the basic methods to\n",
    "write **neat, tidy, and well typeset** equations in your notebooks:\n",
    "* to write an **inline** equation use \n",
    "```markdown\n",
    "$ you latex equation here $\n",
    "```\n",
    "* to write an equation, that is **displayed on a separate line** use \n",
    "```markdown\n",
    "$$ you latex equation here $$\n",
    "```\n",
    "* to write a **block of equations** use \n",
    "```markdown\n",
    "\\begin{align}\n",
    "    left-hand-side\n",
    "        &= right-hand-side on line 1\n",
    "        \\\\\n",
    "        &= right-hand-side on line 2\n",
    "        \\\\\n",
    "        &= right-hand-side on the last line\n",
    "\\end{align}\n",
    "```\n",
    "The **ampersand** (`&`) aligns the equations horizontally and the **double backslash**\n",
    "(`\\\\`) creates a new line."
   ]
  },
  {
   "cell_type": "markdown",
   "metadata": {},
   "source": [
    "Write your theoretical derivations within such blocks:\n",
    "```markdown\n",
    "**BEGIN Solution**\n",
    "\n",
    "<!-- >>> your derivation here <<< -->\n",
    "\n",
    "**END Solution**\n",
    "```"
   ]
  },
  {
   "cell_type": "markdown",
   "metadata": {},
   "source": [
    "Please, write your implementation within the designated blocks:\n",
    "```python\n",
    "...\n",
    "### BEGIN Solution\n",
    "\n",
    "# >>> your solution here <<<\n",
    "\n",
    "### END Solution\n",
    "...\n",
    "```\n"
   ]
  },
  {
   "cell_type": "markdown",
   "metadata": {},
   "source": [
    "<br>"
   ]
  },
  {
   "cell_type": "code",
   "execution_count": 1,
   "metadata": {},
   "outputs": [],
   "source": [
    "import numpy as np\n",
    "import pandas as pd\n",
    "\n",
    "import torch\n",
    "\n",
    "%matplotlib inline\n",
    "import matplotlib.pyplot as plt"
   ]
  },
  {
   "cell_type": "markdown",
   "metadata": {},
   "source": [
    "<br>"
   ]
  },
  {
   "cell_type": "markdown",
   "metadata": {},
   "source": [
    "# Bayesian Models. GLM"
   ]
  },
  {
   "cell_type": "markdown",
   "metadata": {},
   "source": [
    "## Task 1 (1 pt.)\n",
    "\n",
    "Consider a univariate Gaussian distribution $\\mathcal{N}(x; \\mu, \\tau^{-1})$.\n",
    "Let's define Gaussian-Gamma prior for parameters $(\\mu, \\tau)$:\n",
    "\n",
    "\\begin{equation}\n",
    "    p(\\mu, \\tau)\n",
    "        = \\mathcal{N}(\\mu; \\mu_0, (\\beta \\tau)^{-1})\n",
    "            \\otimes \\text{Gamma}(\\tau; a, b)\n",
    "        \\,.\n",
    "\\end{equation}\n",
    "\n",
    "Find the posterior distribution of $(\\mu, \\tau)$ after observing $X = (x_1, \\dots, x_n)$."
   ]
  },
  {
   "cell_type": "markdown",
   "metadata": {},
   "source": [
    "**BEGIN Solution**\n",
    "\n",
    "$\n",
    "\\begin{align}\n",
    "& p(X|\\mu, \\tau) = \\frac{\\tau^{n/2}}{(2\\pi)^{n/2}}\\exp\\Bigl( -\\frac{\\tau}{2}\\sum_{i=1}^n(x_i-\\mu)^2 \\Bigr) \\\\\n",
    "& p(\\mu,\\tau) = \\mathcal{N}(\\mu; \\mu_0, (\\beta \\tau)^{-1}) \\otimes \\text{Gamma}(\\tau; a, b)\n",
    "= \\frac{b^a}{\\Gamma(a)}\\frac{\\beta^{1/2}}{(2\\pi)^{1/2}}\\tau^{a-\\frac{1}{2}}e^{-\\tau b}\\exp\\Bigl( -\\frac{\\tau}{2}\\beta(\\mu-\\mu_0)^2 \\Bigr)\\\\\n",
    "& p(\\mu, \\tau|X) \\propto p(X|\\mu,\\tau) p(\\mu,\\tau) \\propto \n",
    "\\tau^{\\frac{n}{2} + a - \\frac{1}{2}} e^{-b\\tau} \\exp\\Bigl( -\\frac{\\tau}{2}\\bigl(\\beta(\\mu-\\mu_0)^2 + \\sum_{i=1}^n(x_i-\\mu)^2 \\bigr)\\Bigr)\\\\\n",
    "& p(\\mu, \\tau|X) \\propto \\tau^{\\frac{n}{2} + a - \\frac{1}{2}} e^{-b\\tau} \\exp\\Bigl( (\\beta + n)\\bigl(\\mu - \\frac{\\beta\\mu_0 + n\\bar x}{\\beta+n} \\bigr)^2 + \\frac{\\beta n (\\bar x - \\mu_0)^2}{\\beta + n} + \\sum_{i=1}^n(x_i-\\bar x)^2\\Bigr)\\\\\n",
    "& p(\\mu, \\tau|X) \\propto \\mathcal N \\bigl( \\mu ; \\frac{\\beta\\mu_0 + n\\bar x}{\\beta + n}, ((\\beta+n)\\tau)^{-1}  \\bigr) \\otimes \\text{Gamma}\\bigl( \\tau ; a + \\frac{n}{2}, b + \\frac{1}{2}\\sum_{i=1}^n(x_i-\\bar x)^2 + \\frac{\\beta n (\\bar x - \\mu_0)^2}{2(\\beta + n)} \\bigr)\\\\\n",
    "& \\text{where } \\bar x = \\frac{\\sum_{i=1}^n x_i}{n} - \\text{ mean value of x}\\\\\n",
    "\\end{align}\n",
    "$ \n",
    "\n",
    "**END Solution**"
   ]
  },
  {
   "cell_type": "markdown",
   "metadata": {},
   "source": [
    "<br>"
   ]
  },
  {
   "cell_type": "markdown",
   "metadata": {},
   "source": [
    "## Task 2 (1 + 1 + 1 = 3 pt.)\n",
    "\n",
    "Evaluate the following integral using the Laplace approximation:\n",
    "\\begin{equation}\n",
    "    x \\mapsto \\int \\sigma(w^T x) \\mathcal{N}(w; 0, \\Sigma) dw \\,,\n",
    "\\end{equation}\n",
    "for $x = \\bigl(\\tfrac23, \\tfrac16, \\tfrac16\\bigr)\\in \\mathbb{R}^3$ and \n",
    "\\begin{equation}\n",
    "    \\Sigma\n",
    "        = \\begin{pmatrix}\n",
    "             1    & -0.25 & 0.75 \\\\\n",
    "            -0.25 &  1    & 0.5  \\\\\n",
    "             0.75 &  0.5  & 2\n",
    "           \\end{pmatrix}\n",
    "        \\,.\n",
    "\\end{equation}"
   ]
  },
  {
   "cell_type": "markdown",
   "metadata": {},
   "source": [
    "### Task 2.1 (1 pt.)\n",
    "Use the Hessian matrix computed numericaly via finite differences. (Check out [Numdifftools](https://pypi.python.org/pypi/Numdifftools))"
   ]
  },
  {
   "cell_type": "code",
   "execution_count": 2,
   "metadata": {},
   "outputs": [],
   "source": [
    "import numdifftools as nd\n",
    "from scipy.optimize import minimize\n",
    "import numpy as np\n",
    "%matplotlib inline\n",
    "import matplotlib.pyplot as plt"
   ]
  },
  {
   "cell_type": "code",
   "execution_count": 3,
   "metadata": {},
   "outputs": [
    {
     "name": "stdout",
     "output_type": "stream",
     "text": [
      "The value of integral:  0.4981120367145024\n"
     ]
    }
   ],
   "source": [
    "### BEGIN Solution\n",
    "\n",
    "def sigma(w,x):\n",
    "    return 1/(1 + np.exp(-np.transpose(w)@x))\n",
    "\n",
    "def p(w):\n",
    "    x = np.array([2/3, 1/6, 1/6])\n",
    "    Sigma = np.array([[1, -0.25, 0.75],\n",
    "                     [-0.25, 1, 0.5],\n",
    "                     [0.75, 0.5, 2]])\n",
    "    sig = sigma(w,x)\n",
    "    Norm = 1/((2*np.pi)**(3/2)*np.sqrt(np.linalg.det(Sigma)))*np.exp(-0.5*np.transpose(w)@np.linalg.inv(Sigma)@w)\n",
    "    return sig*Norm\n",
    "\n",
    "def log_p(w):\n",
    "    return -np.log(p(w))\n",
    "\n",
    "w = minimize(log_p, np.array([0, 1, 2])).x\n",
    "\n",
    "H = nd.Hessian(log_p, w)(w)\n",
    "\n",
    "nd = (2*np.pi)**(3/2) / np.sqrt(np.linalg.det(H)) * p(w)\n",
    "\n",
    "print('The value of integral: ', nd)\n",
    "### END Solution"
   ]
  },
  {
   "cell_type": "code",
   "execution_count": 4,
   "metadata": {},
   "outputs": [],
   "source": [
    "### BEGIN Solution\n",
    "\n",
    "### END Solution"
   ]
  },
  {
   "cell_type": "markdown",
   "metadata": {},
   "source": [
    "<br>"
   ]
  },
  {
   "cell_type": "markdown",
   "metadata": {},
   "source": [
    "### Task 2.2 (1 pt.)\n",
    "Use the diagonal approximation of the Hessian computed by autodifferentiation\n",
    "in **pytorch**."
   ]
  },
  {
   "cell_type": "code",
   "execution_count": 5,
   "metadata": {},
   "outputs": [],
   "source": [
    "import torch\n",
    "from torch.autograd import Variable, grad"
   ]
  },
  {
   "cell_type": "code",
   "execution_count": 6,
   "metadata": {},
   "outputs": [
    {
     "name": "stdout",
     "output_type": "stream",
     "text": [
      "Integral value is 0.2964309039805372\n"
     ]
    }
   ],
   "source": [
    "def p(w):\n",
    "    x = torch.tensor([2/3, 1/6, 1/6])\n",
    "    Sigma = np.array([[1, -0.25, 0.75],\n",
    "                     [-0.25, 1, 0.5],\n",
    "                     [0.75, 0.5, 2]])\n",
    "    return float(1/((2*np.pi)**(3/2)*np.linalg.det(Sigma)**(1/2)))*torch.sigmoid(torch.dot(w, x))*torch.exp(-0.5*w@Variable(torch.from_numpy(np.linalg.inv(Sigma)).type(torch.FloatTensor))@w)\n",
    "    \n",
    "def log_p_torch(w):\n",
    "    return -torch.log(p(w))\n",
    "\n",
    "def hessian_dig_torch(func, point):\n",
    "    theta = Variable(point, requires_grad=True)\n",
    "    y = func(theta)\n",
    "    grad_params = torch.autograd.grad(y, theta, create_graph=True)\n",
    "    hessian = torch.tensor([torch.autograd.grad(grad_params[0][i], theta, create_graph=True)[0].data.numpy() for i in range(theta.size(0))])\n",
    "    return torch.diag(torch.diag(hessian))\n",
    "\n",
    "#optimal weights are to be known from 2.1\n",
    "H_torch = hessian_dig_torch(log_p_torch, torch.FloatTensor(w))\n",
    "\n",
    "torch = float((2*np.pi)**(3/2) / np.linalg.det(H_torch)**(1/2)) * p(Variable(torch.from_numpy(w).type(torch.FloatTensor))).data.numpy()\n",
    "\n",
    "print('Integral value is', torch)"
   ]
  },
  {
   "cell_type": "code",
   "execution_count": 11,
   "metadata": {},
   "outputs": [
    {
     "name": "stdout",
     "output_type": "stream",
     "text": [
      "The value of integral:  0.2964309176619787\n"
     ]
    }
   ],
   "source": [
    "### BEGIN Solution\n",
    "\n",
    "### END Solution"
   ]
  },
  {
   "cell_type": "markdown",
   "metadata": {},
   "source": [
    "<br>"
   ]
  },
  {
   "cell_type": "markdown",
   "metadata": {},
   "source": [
    "### Task 2.3 (1 pt.)\n",
    "\n",
    "Compare the results comparing the `absolute errors` of the results (this is possible with Monte-Carlo estimate of the integral). Write 1-2 sentences in the results discussion."
   ]
  },
  {
   "cell_type": "code",
   "execution_count": 61,
   "metadata": {},
   "outputs": [
    {
     "name": "stdout",
     "output_type": "stream",
     "text": [
      "Integral value using numdifftools = 0.4981120367145024\n",
      "Integral value using pytorch = 0.2964309039805372\n"
     ]
    }
   ],
   "source": [
    "print('Integral value using numdifftools =', nd)\n",
    "\n",
    "print('Integral value using pytorch =', torch)\n",
    "\n",
    "from scipy.integrate import tplquad\n",
    "\n",
    "def p_quad(w1, w2, w3):\n",
    "    w = np.array([w1, w2, w3])\n",
    "    x = np.array([2/3, 1/6, 1/6])\n",
    "    S = np.array([[1, -1/4, 3/4],\n",
    "                 [-1/4, 1, 1/2],\n",
    "                 [3/4, 1/2, 2]])\n",
    "    sigma = 1/(1+np.exp(-w.T@x))\n",
    "    Norm = 1/((2*np.pi)**(3/2)*np.linalg.det(S)**(1/2))*np.exp(-0.5*w.T@np.linalg.inv(S)@w)\n",
    "    return sigma*Norm\n",
    "\n",
    "integral_tplquad = tplquad(p_quad, -10, 10, -10, 10, -10, 10)[0]"
   ]
  },
  {
   "cell_type": "code",
   "execution_count": 62,
   "metadata": {},
   "outputs": [
    {
     "name": "stdout",
     "output_type": "stream",
     "text": [
      "0.0038\n",
      "0.4071\n"
     ]
    }
   ],
   "source": [
    "print(round((integral_tplquad - nd)/integral_tplquad,4))\n",
    "\n",
    "print(round((integral_tplquad - torch)/integral_tplquad,4))\n",
    "\n",
    "\n"
   ]
  },
  {
   "cell_type": "code",
   "execution_count": 13,
   "metadata": {},
   "outputs": [
    {
     "name": "stdout",
     "output_type": "stream",
     "text": [
      "Relative error, 1 case = 0.002\n",
      "Relative error, 2 case = 0.406\n"
     ]
    }
   ],
   "source": [
    "### BEGIN Solution\n",
    "\n",
    "### END Solution"
   ]
  },
  {
   "cell_type": "markdown",
   "metadata": {},
   "source": [
    "**BEGIN Solution**\n",
    "\n",
    "**END Solution**"
   ]
  },
  {
   "cell_type": "markdown",
   "metadata": {},
   "source": [
    "<br>"
   ]
  },
  {
   "cell_type": "markdown",
   "metadata": {},
   "source": [
    "# Gaussian Processes"
   ]
  },
  {
   "cell_type": "markdown",
   "metadata": {},
   "source": [
    "## Task 3 (1 + 2 = 3 pt.)"
   ]
  },
  {
   "cell_type": "markdown",
   "metadata": {},
   "source": [
    "### Task 3.1 (1 pt.)\n",
    "\n",
    "Assuimng the matrices $A \\in \\mathbb{R}^{n \\times n}$ and $D \\in \\mathbb{R}^{d \\times d}$\n",
    "are invertible, using **gaussian elimination** find the inverse matrix for the following\n",
    "block matrix:\n",
    "\\begin{equation}\n",
    "    \\begin{pmatrix} A & B \\\\ C & D \\end{pmatrix} \\,,\n",
    "\\end{equation}\n",
    "where $C \\in \\mathbb{R}^{d \\times n}$ and $B \\in \\mathbb{R}^{n \\times d}$."
   ]
  },
  {
   "cell_type": "markdown",
   "metadata": {},
   "source": [
    "**BEGIN Solution**\n",
    "\n",
    "\n",
    "$$\n",
    "\\begin{pmatrix}\n",
    " A & B & | & I & O \\\\ C & D & | & O & I \\end{pmatrix} \\rightarrow \\begin{pmatrix} I & A^{-1}B & | & A^{-1} & O \\\\ C & D & | & O & I \\end{pmatrix} \\rightarrow\n",
    "$$\n",
    "\n",
    "$$\n",
    "\\rightarrow \n",
    "\\begin{pmatrix} I & A^{-1}B & | & A^{-1} & O \\\\ O & D - CA^{-1}B & | & -CA^{-1} & I \\end{pmatrix}  \\rightarrow \\begin{pmatrix} I & A^{-1}B & | & A^{-1} & O \\\\ O & I & | & -(D - CA^{-1}B)^{-1}CA^{-1} & (D - CA^{-1}B)^{-1} \\end{pmatrix} \\rightarrow\n",
    "$$\n",
    "\n",
    "$$\n",
    "\\rightarrow \\begin{pmatrix} I & O & | & A^{-1} + A^{-1}B(D - CA^{-1}B)^{-1}CA^{-1} & -A^{-1}B(D - CA^{-1}B)^{-1}CA^{-1} \\\\ O & I & | & -(D - CA^{-1}B)^{-1}CA^{-1} & (D - CA^{-1}B)^{-1} \\end{pmatrix}\n",
    "$$\n",
    "From this fact we receive, that:\n",
    "$$\\begin{pmatrix} A & B \\\\ C & D \\end{pmatrix}^{-1} =\n",
    "\\begin{pmatrix} A^{-1} + A^{-1}B(D - CA^{-1}B)^{-1}CA^{-1} & -A^{-1}B(D - CA^{-1}B)^{-1}CA^{-1} \\\\  -(D - CA^{-1}B)^{-1}CA^{-1} & (D - CA^{-1}B)^{-1} \\end{pmatrix}\\\\\n",
    "$$\n",
    "\n",
    "**END Solution**"
   ]
  },
  {
   "cell_type": "markdown",
   "metadata": {},
   "source": [
    "<br>"
   ]
  },
  {
   "cell_type": "markdown",
   "metadata": {},
   "source": [
    "### Task 3.2 (2 pt.)\n",
    "\n",
    "Assume that the function $y(x)$, $x \\in \\mathbb{R}^d$, is a realization of the Gaussian\n",
    "Process $GP\\bigl(0; K(\\cdot, \\cdot)\\bigr)$ with $K(a, b) = \\exp({- \\gamma \\|a - b\\|_2^2}))$.\n",
    "\n",
    "Suppose two datasets were observed: **noiseless** ${D_0}$ and **noisy** ${D_1}$\n",
    "\\begin{aligned}\n",
    "    & D_0 = \\bigl(x_i, y(x_i) \\bigr)_{i=1}^{n} \\,, \\\\\n",
    "    & D_1 = \\bigl(x^\\prime_i, y(x^\\prime_i) + \\varepsilon_i \\bigr)_{i=1}^{m} \\,,\n",
    "\\end{aligned}\n",
    "where $\\varepsilon_i \\sim \\text{ iid } \\mathcal{N}(0, \\sigma^2)$, independent of process $y$.\n",
    "\n",
    "Derive the conditional distribution of $y(x) \\big\\vert_{D_0, D_1}$ at a new $x$."
   ]
  },
  {
   "cell_type": "markdown",
   "metadata": {},
   "source": [
    "**BEGIN Solution**\n",
    "\n",
    "Let's introduce some new denotations for new point $x$:\n",
    "\n",
    "$$ \n",
    "K = \\{K(x_i,x_j)\\}_{i,j=1}^n\n",
    "$$\n",
    "$$\n",
    "K' = \\{K(x_i,x'_j)\\}_{i,j=1}^{n,m}\n",
    "$$\n",
    "$$\n",
    "K'' = \\{K(x'_i,x'_j)\\}_{i,j=1}^m\n",
    "$$\n",
    "Also:\n",
    "$$\n",
    "\\bar{y} = (y(x_1),\\dots,y(x_n),y(x'_1),\\dots,y(x'_m))\n",
    "$$\n",
    "$$\n",
    "\\bar{f} = (f(x_1),\\dots,f(x_n),f(x'_1),\\dots,f(x'_m)),\n",
    "$$\n",
    "where $f(x_i) = y(x_i), f(x'_i) = y(x'_i) + \\varepsilon_i)$\n",
    "\n",
    "$$\\mathcal K = \\begin{pmatrix} K & K' \\\\ K'^\\top & K'' \\end{pmatrix} $$\n",
    "$$\\mathcal K_\\sigma = \\begin{pmatrix} K & K' \\\\ K'^\\top & K'' + \\sigma^2 I_m \\end{pmatrix} $$\n",
    "$$K_{**} = K(x,x) $$\n",
    "$$k_{*} = [K(x,x_i)^\\top,K(x,x'_j)^\\top]^\\top,$$\n",
    "\n",
    "where $i=\\overline{1,n}, j=\\overline{1,m}$\n",
    "\n",
    "Now we need to find $p(y | \\bar y)$:\n",
    "\n",
    "$$\n",
    "p(\\bar f) = \\mathcal N\\bigl(\\bar f | 0, \\mathcal K\\bigr)\n",
    "$$\n",
    "$$\n",
    "p(\\bar y | \\bar f) = \\mathcal N \\Bigl( \\bar y | \\bar f, \\begin{pmatrix} 0 & 0 \\\\ 0 & \\sigma^2 I_m \\end{pmatrix} \\Bigr)\n",
    "$$\n",
    "$$\n",
    "p(\\bar y, y) = \\mathcal N \\Bigl( 0, \\begin{pmatrix} \\mathcal K_\\sigma & k_* \\\\ k_*^\\top & K_{**} \\end{pmatrix} \\Bigr) \n",
    "$$\n",
    "From equations above we receive the answering equation:\n",
    "$$p(y | \\bar y) = \\mathcal N \\Bigl( k_*^\\top \\mathcal K_\\sigma^{-1}\\bar y, K_{**} -k_*^\\top \\mathcal K_\\sigma^{-1} k^* \\Bigr)\n",
    "$$\n",
    "\n",
    "\n",
    "**END Solution**"
   ]
  },
  {
   "cell_type": "markdown",
   "metadata": {},
   "source": [
    "<br>"
   ]
  },
  {
   "cell_type": "markdown",
   "metadata": {},
   "source": [
    "## Task 4 (1 + 2 = 3 pt.)"
   ]
  },
  {
   "cell_type": "markdown",
   "metadata": {},
   "source": [
    "### Task 4.1 (1 pt.)"
   ]
  },
  {
   "cell_type": "markdown",
   "metadata": {},
   "source": [
    "> In the late 1950’s Charles Keeling invented an accurate way to measure atmospheric $CO_2$ concentration and began taking regular measurements at the Mauna Loa observatory.\n"
   ]
  },
  {
   "cell_type": "markdown",
   "metadata": {},
   "source": [
    "Take `monthly_co2_mlo.csv` file, load it and prepare the data."
   ]
  },
  {
   "cell_type": "markdown",
   "metadata": {},
   "source": [
    "0. Load the `CO2 [ppm]` time series\n",
    "1. Replace $-99.99$ with **NaN** and drop the missing observations\n",
    "2. Split the time series into train and test\n",
    "3. Normalize the target value by fitting a transformation on the train\n",
    "4. Plot the resulting target against the time index"
   ]
  },
  {
   "cell_type": "code",
   "execution_count": 7,
   "metadata": {},
   "outputs": [
    {
     "data": {
      "text/html": [
       "<div>\n",
       "<style scoped>\n",
       "    .dataframe tbody tr th:only-of-type {\n",
       "        vertical-align: middle;\n",
       "    }\n",
       "\n",
       "    .dataframe tbody tr th {\n",
       "        vertical-align: top;\n",
       "    }\n",
       "\n",
       "    .dataframe thead th {\n",
       "        text-align: right;\n",
       "    }\n",
       "</style>\n",
       "<table border=\"1\" class=\"dataframe\">\n",
       "  <thead>\n",
       "    <tr style=\"text-align: right;\">\n",
       "      <th></th>\n",
       "      <th>year</th>\n",
       "      <th>CO2 [ppm]</th>\n",
       "      <th>seasonally adjusted [ppm]</th>\n",
       "      <th>fit [ppm]</th>\n",
       "      <th>seasonally adjusted fit [ppm]</th>\n",
       "      <th>CO2 filled [ppm]</th>\n",
       "      <th>seasonally adjusted filled [ppm]</th>\n",
       "    </tr>\n",
       "  </thead>\n",
       "  <tbody>\n",
       "    <tr>\n",
       "      <th>2</th>\n",
       "      <td>1958.166667</td>\n",
       "      <td>315.70</td>\n",
       "      <td>314.43</td>\n",
       "      <td>316.19</td>\n",
       "      <td>314.90</td>\n",
       "      <td>315.70</td>\n",
       "      <td>314.43</td>\n",
       "    </tr>\n",
       "    <tr>\n",
       "      <th>3</th>\n",
       "      <td>1958.250000</td>\n",
       "      <td>317.45</td>\n",
       "      <td>315.15</td>\n",
       "      <td>317.30</td>\n",
       "      <td>314.98</td>\n",
       "      <td>317.45</td>\n",
       "      <td>315.15</td>\n",
       "    </tr>\n",
       "    <tr>\n",
       "      <th>4</th>\n",
       "      <td>1958.333333</td>\n",
       "      <td>317.51</td>\n",
       "      <td>314.72</td>\n",
       "      <td>317.85</td>\n",
       "      <td>315.06</td>\n",
       "      <td>317.51</td>\n",
       "      <td>314.72</td>\n",
       "    </tr>\n",
       "    <tr>\n",
       "      <th>6</th>\n",
       "      <td>1958.500000</td>\n",
       "      <td>315.86</td>\n",
       "      <td>315.18</td>\n",
       "      <td>315.87</td>\n",
       "      <td>315.22</td>\n",
       "      <td>315.86</td>\n",
       "      <td>315.18</td>\n",
       "    </tr>\n",
       "    <tr>\n",
       "      <th>7</th>\n",
       "      <td>1958.583333</td>\n",
       "      <td>314.93</td>\n",
       "      <td>316.18</td>\n",
       "      <td>314.00</td>\n",
       "      <td>315.29</td>\n",
       "      <td>314.93</td>\n",
       "      <td>316.18</td>\n",
       "    </tr>\n",
       "  </tbody>\n",
       "</table>\n",
       "</div>"
      ],
      "text/plain": [
       "          year  CO2 [ppm]  seasonally adjusted [ppm]  fit [ppm]  \\\n",
       "2  1958.166667     315.70                     314.43     316.19   \n",
       "3  1958.250000     317.45                     315.15     317.30   \n",
       "4  1958.333333     317.51                     314.72     317.85   \n",
       "6  1958.500000     315.86                     315.18     315.87   \n",
       "7  1958.583333     314.93                     316.18     314.00   \n",
       "\n",
       "   seasonally adjusted fit [ppm]  CO2 filled [ppm]  \\\n",
       "2                         314.90            315.70   \n",
       "3                         314.98            317.45   \n",
       "4                         315.06            317.51   \n",
       "6                         315.22            315.86   \n",
       "7                         315.29            314.93   \n",
       "\n",
       "   seasonally adjusted filled [ppm]  \n",
       "2                            314.43  \n",
       "3                            315.15  \n",
       "4                            314.72  \n",
       "6                            315.18  \n",
       "7                            316.18  "
      ]
     },
     "execution_count": 7,
     "metadata": {},
     "output_type": "execute_result"
    }
   ],
   "source": [
    "import pandas as pd\n",
    "from sklearn.model_selection import train_test_split\n",
    "from sklearn.preprocessing import StandardScaler\n",
    "### BEGIN Solution\n",
    "df = pd.read_csv(r'data/monthly_co2_mlo.csv')\n",
    "df = df.replace(-99.99, np.nan)\n",
    "df = df.dropna()\n",
    "df.head()\n",
    "### END Solution"
   ]
  },
  {
   "cell_type": "code",
   "execution_count": 8,
   "metadata": {},
   "outputs": [
    {
     "data": {
      "image/png": "[encoded data removed]",
      "text/plain": [
       "<Figure size 1008x288 with 1 Axes>"
      ]
     },
     "metadata": {
      "needs_background": "light"
     },
     "output_type": "display_data"
    }
   ],
   "source": [
    "# >>> your code here <<<\n",
    "X = (df['year'] - 1958).values\n",
    "y = df['CO2 [ppm]']\n",
    "X_train, X_test, y_train, y_test = train_test_split(X, y, test_size=0.2, random_state=0, shuffle= False)\n",
    "scaler = StandardScaler()\n",
    "y_scaled_train  = scaler.fit_transform(y_train.values.reshape(-1, 1))\n",
    "y_scaled_test  = scaler.transform(y_test.values.reshape(-1, 1)) \n",
    "plt.figure(figsize = (14,4))\n",
    "plt.xlabel('Train and Test split',fontsize = 12)\n",
    "plt.ylabel('CO$_2$',fontsize = 12)\n",
    "plt.plot(X_train,y_scaled_train)\n",
    "plt.axvline(X_test[0], lw = 2, color = 'black')\n",
    "plt.plot(X_test, y_scaled_test)\n",
    "plt.grid(True)\n",
    "plt.show()"
   ]
  },
  {
   "cell_type": "markdown",
   "metadata": {},
   "source": [
    "<br>"
   ]
  },
  {
   "cell_type": "markdown",
   "metadata": {},
   "source": [
    "### Task 4.2 (2 pt.)\n",
    "\n",
    "Use [**GPy**](https://pypi.python.org/pypi/GPy) library for training and prediction. Fit a GP and run the predict on the test. Useful kernels to combine: `GPy.kern.RBF, GPy.kern.Poly, GPy.kern.StdPeriodic, GPy.kern.White, GPy.kern.Linear`. \n",
    "\n",
    "1. Plot mean and confidence interval of the prediction. \n",
    "2. Inspect them on normality by scatter plot: plot predicted points/time series against true values. \n",
    "3. Estimate the prediction error with `r2_score`. R2-score accepted > 0.83 on test sample."
   ]
  },
  {
   "cell_type": "code",
   "execution_count": 9,
   "metadata": {},
   "outputs": [],
   "source": [
    "from GPy.models import GPRegression\n",
    "from GPy.kern import RBF, Poly, StdPeriodic, White, Linear\n",
    "from sklearn.metrics import r2_score\n",
    "import GPy.plotting"
   ]
  },
  {
   "cell_type": "code",
   "execution_count": 39,
   "metadata": {},
   "outputs": [
    {
     "data": {
      "text/html": [
       "<style type=\"text/css\">\n",
       ".pd{\n",
       "    font-family: \"Courier New\", Courier, monospace !important;\n",
       "    width: 100%;\n",
       "    padding: 3px;\n",
       "}\n",
       "</style>\n",
       "\n",
       "<p class=pd>\n",
       "<b>Model</b>: GP regression<br>\n",
       "<b>Objective</b>: 569.4768528488249<br>\n",
       "<b>Number of Parameters</b>: 9<br>\n",
       "<b>Number of Optimization Parameters</b>: 9<br>\n",
       "<b>Updates</b>: True<br>\n",
       "</p>\n",
       "<style type=\"text/css\">\n",
       ".tg  {font-family:\"Courier New\", Courier, monospace !important;padding:2px 3px;word-break:normal;border-collapse:collapse;border-spacing:0;border-color:#DCDCDC;margin:0px auto;width:100%;}\n",
       ".tg td{font-family:\"Courier New\", Courier, monospace !important;font-weight:bold;color:#444;background-color:#F7FDFA;border-style:solid;border-width:1px;overflow:hidden;word-break:normal;border-color:#DCDCDC;}\n",
       ".tg th{font-family:\"Courier New\", Courier, monospace !important;font-weight:normal;color:#fff;background-color:#26ADE4;border-style:solid;border-width:1px;overflow:hidden;word-break:normal;border-color:#DCDCDC;}\n",
       ".tg .tg-left{font-family:\"Courier New\", Courier, monospace !important;font-weight:normal;text-align:left;}\n",
       ".tg .tg-center{font-family:\"Courier New\", Courier, monospace !important;font-weight:normal;text-align:center;}\n",
       ".tg .tg-right{font-family:\"Courier New\", Courier, monospace !important;font-weight:normal;text-align:right;}\n",
       "</style>\n",
       "<table class=\"tg\"><tr><th><b>  GP_regression.              </b></th><th><b>value</b></th><th><b>constraints</b></th><th><b>priors</b></th></tr>\n",
       "<tr><td class=tg-left>  sum.rbf.variance            </td><td class=tg-right>  2.3</td><td class=tg-center>    +ve    </td><td class=tg-center>      </td></tr>\n",
       "<tr><td class=tg-left>  sum.rbf.lengthscale         </td><td class=tg-right> 25.0</td><td class=tg-center>    +ve    </td><td class=tg-center>      </td></tr>\n",
       "<tr><td class=tg-left>  sum.poly.variance           </td><td class=tg-right> 0.98</td><td class=tg-center>    +ve    </td><td class=tg-center>      </td></tr>\n",
       "<tr><td class=tg-left>  sum.poly.scale              </td><td class=tg-right> 0.97</td><td class=tg-center>    +ve    </td><td class=tg-center>      </td></tr>\n",
       "<tr><td class=tg-left>  sum.poly.bias               </td><td class=tg-right>  1.0</td><td class=tg-center>    +ve    </td><td class=tg-center>      </td></tr>\n",
       "<tr><td class=tg-left>  sum.std_periodic.variance   </td><td class=tg-right>  1.0</td><td class=tg-center>    +ve    </td><td class=tg-center>      </td></tr>\n",
       "<tr><td class=tg-left>  sum.std_periodic.period     </td><td class=tg-right>  1.0</td><td class=tg-center>    +ve    </td><td class=tg-center>      </td></tr>\n",
       "<tr><td class=tg-left>  sum.std_periodic.lengthscale</td><td class=tg-right>  1.0</td><td class=tg-center>    +ve    </td><td class=tg-center>      </td></tr>\n",
       "<tr><td class=tg-left>  Gaussian_noise.variance     </td><td class=tg-right>  1.0</td><td class=tg-center>    +ve    </td><td class=tg-center>      </td></tr>\n",
       "</table>"
      ],
      "text/plain": [
       "<GPy.models.gp_regression.GPRegression at 0x1a31228fd0>"
      ]
     },
     "metadata": {},
     "output_type": "display_data"
    },
    {
     "data": {
      "image/png": "[encoded data removed]",
      "text/plain": [
       "<Figure size 1008x288 with 1 Axes>"
      ]
     },
     "metadata": {
      "needs_background": "light"
     },
     "output_type": "display_data"
    }
   ],
   "source": [
    "### BEGIN Solution\n",
    "def plot_model(model, xlim=[-12,62], ylim = [-5.5,5.5]):\n",
    "    \n",
    "    x = np.linspace(xlim[0], xlim[1], 200).reshape(-1, 1)\n",
    "    prediction, variance = model.predict(x)\n",
    "    std = np.sqrt(variance).ravel()\n",
    "    prediction = prediction.ravel()\n",
    "    plt.figure(figsize = (14,4))\n",
    "    plt.plot(model.X, model.Y, 'xk', label='Data')\n",
    "    plt.plot(x, prediction, label='Mean')\n",
    "    plt.fill_between(x.ravel(), prediction - std,\n",
    "                     prediction + std, alpha=0.4, label = 'Confidence')\n",
    "    plt.xlim((xlim[0],xlim[1]))\n",
    "    plt.ylim((ylim[0],ylim[1]))\n",
    "    plt.legend(fontsize=12, loc = 0)\n",
    "    plt.xlabel('x', fontsize=12)\n",
    "    plt.ylabel('y', fontsize=12)\n",
    "    plt.tight_layout()\n",
    "    \n",
    "kernel = RBF(1, variance=2.3, lengthscale=25) + Poly(1, variance=0.98, scale=0.97) + StdPeriodic(1)\n",
    "m = GPRegression(X_train.reshape(-1,1), y_scaled_train, kernel)\n",
    "display(m)\n",
    "plot_model(m)\n",
    "\n",
    "\n",
    "### END Solution"
   ]
  },
  {
   "cell_type": "code",
   "execution_count": 40,
   "metadata": {},
   "outputs": [
    {
     "data": {
      "image/png": "[encoded data removed]",
      "text/plain": [
       "<Figure size 1008x288 with 1 Axes>"
      ]
     },
     "metadata": {
      "needs_background": "light"
     },
     "output_type": "display_data"
    }
   ],
   "source": [
    "x = np.linspace(min(y_scaled_test),max(y_scaled_test), y_scaled_test.shape[0])\n",
    "y = np.linspace(min(y_scaled_test),max(y_scaled_test), y_scaled_test.shape[0])\n",
    "prediction = m.predict(X_test.reshape(-1,1))[0]\n",
    "plt.figure(figsize = (14,4))\n",
    "plt.scatter(prediction, y_scaled_test)\n",
    "plt.plot(x,y, color = 'red', label = 'y = x')\n",
    "plt.xlabel('Prediction')\n",
    "plt.ylabel('True Values')\n",
    "plt.title('QQ - plot')\n",
    "plt.legend()\n",
    "plt.show()\n"
   ]
  },
  {
   "cell_type": "code",
   "execution_count": 41,
   "metadata": {},
   "outputs": [
    {
     "data": {
      "text/plain": [
       "0.9829376714569291"
      ]
     },
     "execution_count": 41,
     "metadata": {},
     "output_type": "execute_result"
    }
   ],
   "source": [
    "r2_score(prediction, y_scaled_test)"
   ]
  }
 ],
 "metadata": {
  "kernelspec": {
   "display_name": "Python 3",
   "language": "python",
   "name": "python3"
  },
  "language_info": {
   "codemirror_mode": {
    "name": "ipython",
    "version": 3
   },
   "file_extension": ".py",
   "mimetype": "text/x-python",
   "name": "python",
   "nbconvert_exporter": "python",
   "pygments_lexer": "ipython3",
   "version": "3.6.5"
  }
 },
 "nbformat": 4,
 "nbformat_minor": 2
}
