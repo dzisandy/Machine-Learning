{
 "cells": [
  {
   "cell_type": "code",
   "execution_count": 89,
   "metadata": {},
   "outputs": [
    {
     "name": "stderr",
     "output_type": "stream",
     "text": [
      "/Users/gleb/anaconda3/lib/python3.7/site-packages/ipykernel_launcher.py:39: DeprecationWarning: `comb` is deprecated!\n",
      "Importing `comb` from scipy.misc is deprecated in scipy 1.0.0. Use `scipy.special.comb` instead.\n",
      "/Users/gleb/anaconda3/lib/python3.7/site-packages/ipykernel_launcher.py:104: DeprecationWarning: `comb` is deprecated!\n",
      "Importing `comb` from scipy.misc is deprecated in scipy 1.0.0. Use `scipy.special.comb` instead.\n"
     ]
    },
    {
     "name": "stdout",
     "output_type": "stream",
     "text": [
      "RM code m = 8, r = 5, IWD length = 219, CWD length =256\n",
      "IWD          : [1 1 1 1 1 1 1 0 1 1 1 0 1 0 0 1 1 1 0 1 1 1 0 0 0 0 0 1 1 1 1 1 1 0 0 1 0\n",
      " 1 1 0 1 0 1 1 1 1 0 1 1 1 0 1 1 1 0 0 0 1 1 0 0 0 0 0 0 0 1 1 1 1 0 1 0 0\n",
      " 0 1 1 1 1 0 0 0 1 0 1 1 1 1 1 1 1 0 0 0 0 1 0 1 1 1 0 1 1 1 1 0 1 0 0 0 1\n",
      " 1 0 1 0 0 0 0 1 1 1 1 1 1 0 0 0 0 0 1 0 0 0 0 0 1 1 0 0 0 1 1 0 0 0 1 0 1\n",
      " 1 1 1 1 0 1 0 0 1 0 1 1 1 0 0 1 0 1 1 1 0 0 1 1 0 1 0 1 1 0 0 1 0 0 0 0 1\n",
      " 1 1 0 0 1 0 1 1 1 1 0 0 0 1 0 0 1 0 1 0 0 0 0 1 0 1 0 1 1 0 1 1 1 1]\n",
      "CWD                 : [1 0 1 0 0 0 0 0 0 1 1 0 0 1 0 1 0 0 1 0 0 0 0 1 0 1 1 0 1 0 1 1 0 1 0 0 1\n",
      " 1 1 0 1 0 1 0 0 1 1 1 1 0 1 1 1 0 1 0 1 0 1 0 0 1 1 1 0 0 1 1 0 0 1 0 1 0\n",
      " 0 1 1 0 1 0 0 0 0 1 1 0 1 0 0 1 1 1 1 0 1 0 0 0 1 0 0 1 0 1 1 0 1 0 0 0 0\n",
      " 1 1 0 0 1 1 0 1 0 1 0 1 0 0 0 1 0 0 0 0 1 1 0 1 1 0 0 0 1 1 1 0 1 1 1 0 1\n",
      " 0 1 1 1 1 1 0 0 1 1 1 0 0 1 0 1 0 0 0 1 1 0 1 0 0 1 0 1 0 1 1 1 0 0 1 0 1\n",
      " 0 0 0 0 1 0 0 0 0 1 0 1 0 0 1 0 0 1 0 1 0 0 0 1 1 1 0 1 0 1 0 0 0 0 1 0 1\n",
      " 1 0 0 0 1 1 1 0 0 1 1 1 0 0 0 1 0 1 1 0 0 1 0 0 0 1 0 1 1 1 1 1 0 1]\n",
      "CWD from the channel: [1 1 0 0 1 0 0 0 0 0 1 0 0 1 0 1 0 0 1 0 0 0 0 1 0 1 1 0 1 0 1 1 0 1 0 0 1\n",
      " 1 1 0 1 0 1 0 0 1 1 1 1 0 1 1 1 0 1 0 1 0 1 0 0 1 1 1 0 0 1 1 0 0 1 0 1 0\n",
      " 0 1 1 0 1 0 0 0 0 1 1 0 1 0 0 1 1 1 1 0 1 0 0 0 1 0 0 1 0 1 1 0 1 0 0 0 0\n",
      " 1 1 0 0 1 1 0 1 0 1 0 1 0 0 0 1 0 0 0 0 1 1 0 1 1 0 0 0 1 1 1 0 1 1 1 0 1\n",
      " 0 1 1 1 1 1 0 0 1 1 1 0 0 1 0 1 0 0 0 1 1 0 1 0 0 1 0 1 0 1 1 1 0 0 1 0 1\n",
      " 0 0 0 0 1 0 0 0 0 1 0 1 0 0 1 0 0 1 0 1 0 0 0 1 1 1 0 1 0 1 0 0 0 0 1 0 1\n",
      " 1 0 0 0 1 1 1 0 0 1 1 1 0 0 0 1 0 1 1 0 0 1 0 0 0 1 0 1 1 1 1 1 0 1]\n",
      "IWD estimated: [1 1 1 1 1 1 1 1 0 1 1 0 1 0 1 0 1 1 0 1 0 0 0 0 0 1 1 1 1 0 0 1 1 0 0 1 0\n",
      " 1 1 0 1 1 0 1 1 1 1 0 1 1 1 0 1 1 0 0 0 1 1 0 0 1 1 0 0 1 0 1 1 1 0 1 0 0\n",
      " 0 0 0 1 1 0 0 0 1 0 1 1 1 1 1 1 1 0 0 0 0 1 1 0 1 1 1 0 1 1 1 0 1 0 0 0 0\n",
      " 0 0 1 0 0 0 0 1 1 1 1 1 1 0 0 0 0 0 1 1 1 0 0 0 1 1 0 0 0 1 1 0 0 0 1 0 1\n",
      " 1 1 1 1 0 1 0 0 1 0 1 1 1 0 0 1 0 0 0 1 0 0 1 1 0 1 0 1 1 0 0 1 0 0 0 0 1\n",
      " 1 1 0 0 1 0 1 1 1 1 0 0 0 1 0 0 1 0 1 0 0 0 0 1 0 1 0 1 1 0 1 1 1 1]\n",
      "Errors happened:  32\n",
      "Total errors:  32\n"
     ]
    }
   ],
   "source": [
    "import itertools\n",
    "import numpy as np\n",
    "from scipy.misc import comb\n",
    "\n",
    "#     def evaluate_sum_polynomial_voting(self,indexes_fix,polynomial):\n",
    "#         eval_value = 0\n",
    "#         result_dec = 0\n",
    "#         x = np.zeros(palynomial.shape[0])\n",
    "#         indexes_sum = \n",
    "#         for i, t in enumerate(itertools.product([0, 1], repeat=len(indexes))):\n",
    "#             x[indexes] = t\n",
    "#             for j,d in enumerate(itertools.product([0, 1], repeat=len(sum_indexes))):\n",
    "#                 x[indexes_sum] = d\n",
    "#                 eval_value += self._evaluate_polynomial(polynomial, x)\n",
    "#             result_dec += np.mod(eval_value,2)\n",
    "            \n",
    "                \n",
    "#         return majority_vote(result_dec)\n",
    "            \n",
    "class ReedMuller:\n",
    "    def __init__(self, m, r):\n",
    "        self.m = m\n",
    "        self.r = r\n",
    "\n",
    "    def encode(self, iwd):\n",
    "        cwd = np.zeros((2**self.m,))\n",
    "        for i, t in enumerate(itertools.product([0, 1], repeat=self.m)):\n",
    "            cwd[i] = self._evaluate_polynomial(iwd, t)\n",
    "        return cwd.astype(np.int)\n",
    "\n",
    "    def cwd_length(self):\n",
    "        # Calculate codeword length\n",
    "        return 2 ** self.m\n",
    "\n",
    "    def iwd_length(self):\n",
    "        # Calculate information word length\n",
    "        iwd_length = 0\n",
    "        for i in range(self.r + 1):\n",
    "            iwd_length += comb(self.m, i)\n",
    "        return int(iwd_length)\n",
    "\n",
    "    \n",
    "    def majority_vote(self, b):\n",
    "        return int(b.sum() > b.shape[0]/2)\n",
    "    \n",
    "\n",
    "            \n",
    "            \n",
    "    def decode(self, received_codeword):\n",
    "        iwd_hat = np.zeros(self.iwd_length())\n",
    "        poly_coefs = received_codeword\n",
    "        poly_coefs_2 = received_codeword.copy()\n",
    "        t  = self.r\n",
    "        index_in_pol = 0\n",
    "        while t >= 0:\n",
    "            vec_bas = np.array([2**i for i in range(self.m - t)])\n",
    "            \n",
    "            for indexes in itertools.combinations(range(self.m), self.m - t):\n",
    "                index_in_pol = self.to_index(indexes)\n",
    "                b = np.zeros(2**(self.m - t))\n",
    "                for i, a in enumerate(itertools.product([0, 1], repeat=self.m)): \n",
    "                    if t == self.m: \n",
    "                        b[0] += self._evaluate_polynomial(poly_coefs, a )\n",
    "                    else:\n",
    "                        b[np.dot(np.array(a)[np.array(indexes)],vec_bas)] += received_codeword[i]\\\n",
    "                        - self._evaluate_polynomial(iwd_hat,a)\n",
    "                c_s = self.majority_vote(b % 2)\n",
    "                iwd_hat[index_in_pol] += c_s\n",
    "            t = t - 1\n",
    "                \n",
    "            \n",
    "        return iwd_hat\n",
    "\n",
    "    def _evaluate_polynomial(self, poly_coeff, x):\n",
    "        poly_coef_id = 0  # index for polynomial coefficient\n",
    "        poly_val = 0\n",
    "        # Iterate through the monomial power\n",
    "        for monomial_power in range(self.r + 1):\n",
    "            # Iterate all fixed power monomials\n",
    "            for t in itertools.combinations(range(self.m), monomial_power):\n",
    "                # Evaluate monomial value\n",
    "                mono_val = poly_coeff[poly_coef_id]\n",
    "                for j in t:\n",
    "                    mono_val *= x[j]\n",
    "                poly_val += mono_val\n",
    "                poly_coef_id += 1\n",
    "        return np.mod(poly_val, 2)\n",
    "\n",
    "#     def _comb_to_index(self, bin_vec):\n",
    "#         assert len(bin_vec) == self.m\n",
    "#         index = 0\n",
    "#         for i in range(self.m):\n",
    "#             index += 2 ** i * bin_vec[self.m - i - 1]\n",
    "#         return index\n",
    "    def to_index(self, indexes):\n",
    "        all_indexes = np.arange(self.m)\n",
    "        com_indexes = []\n",
    "        index = 0\n",
    "        \n",
    "        for i in all_indexes:\n",
    "            if i not in indexes:\n",
    "                com_indexes.append(i)\n",
    "        for i in range(len(com_indexes)):\n",
    "            index += comb(self.m, i)\n",
    "        for i,t in enumerate(itertools.combinations(range(self.m), len(com_indexes))):\n",
    "            if list(t) == com_indexes:\n",
    "                index += i\n",
    "                break\n",
    "        return int(index) \n",
    "    \n",
    "\n",
    "def one_hot(a, num_classes):\n",
    "    return np.squeeze(np.eye(num_classes)[a]).astype(int)\n",
    "\n",
    "\n",
    "if __name__ == '__main__':\n",
    "    M = 8\n",
    "    R = 5\n",
    "    rm = ReedMuller(M, R)\n",
    "    cwd_length = rm.cwd_length()\n",
    "    iwd_length = rm.iwd_length()\n",
    "    print('RM code m = {0}, r = {1}, IWD length = {2}, CWD length ={3}'.format(\n",
    "        M, R, rm.iwd_length(), rm.cwd_length()\n",
    "    ))\n",
    "    n_errors = 0\n",
    "    for i in range(1):\n",
    "        test_iwd = np.random.randint(2, size=iwd_length)\n",
    "        #test_iwd = np.zeros(iwd_length)\n",
    "        cwd = rm.encode(test_iwd)\n",
    "        print('IWD          :', test_iwd)\n",
    "        print('CWD                 :', cwd)\n",
    "\n",
    "        # Introduce single error:\n",
    "        cwd_corrupted = np.mod(cwd + one_hot(1, cwd_length) + one_hot(2, cwd_length) + one_hot(4, cwd_length) + one_hot(9, cwd_length), 2)\n",
    "        #cwd_corrupted = cwd\n",
    "        print('CWD from the channel:', cwd_corrupted)\n",
    "        iwd_hat = rm.decode(cwd_corrupted)\n",
    "        print('IWD estimated:', iwd_hat.astype(np.int))\n",
    "        print('Errors happened: ', np.sum(iwd_hat != test_iwd))\n",
    "        n_errors += np.sum(iwd_hat != test_iwd)\n",
    "    print('Total errors: ', n_errors)\n",
    "\n"
   ]
  },
  {
   "cell_type": "code",
   "execution_count": 77,
   "metadata": {},
   "outputs": [],
   "source": [
    "message = '162ad9b04a86e37a649b97c20b0461c49d6df8a2f20df1a4e0d34620bc8083eae04ff8579b5dd91fef7c5dcea8adbfba02a2d6894a7cc40da73b2645d326f7fd6cdd8893aa14283cd8c3aae4ee0505bb7ef330e8ed6fc512a37b7b093f177efca4680da74c4c8c15cb080b51d323851345dc20df085dfb37e97fe5eaab0ece0d20ced9aec21f6e2a10cd16ad9b75c84015a1d0fd522ac223d5adeff1fb4f94462f7a62382983570da2c4e0890e977f165208ba1068cdb319b6205137264ff2948eb7284b69503053b44e48e835303669f39099a0d7b4427b0a55c5c0b717877de9eaa8014329c101801afd32bcb0025b2919a4c126809764d98f976bbf80cd58ff8b12cc2d6a0c1e77033f1e0f487499b80f5ab8a62277599ad222c02e555a74a1b6b057dcf8c21640ceaed03d80236e26643785cdbc2cad6d497ca88691987f'\n"
   ]
  },
  {
   "cell_type": "code",
   "execution_count": 78,
   "metadata": {},
   "outputs": [
    {
     "data": {
      "text/plain": [
       "10.0"
      ]
     },
     "execution_count": 78,
     "metadata": {},
     "output_type": "execute_result"
    }
   ],
   "source": [
    "len(message)/2**8*4"
   ]
  },
  {
   "cell_type": "code",
   "execution_count": 79,
   "metadata": {},
   "outputs": [],
   "source": [
    "def invert(symbol):\n",
    "    symbol_n = ''\n",
    "    for i in range(len(symbol)):\n",
    "        symbol_n = symbol_n +symbol[len(symbol) - 1 -i]\n",
    "    return symbol_n"
   ]
  },
  {
   "cell_type": "code",
   "execution_count": 80,
   "metadata": {},
   "outputs": [],
   "source": [
    "rm = ReedMuller(8, 3)"
   ]
  },
  {
   "cell_type": "code",
   "execution_count": 82,
   "metadata": {},
   "outputs": [
    {
     "name": "stderr",
     "output_type": "stream",
     "text": [
      "/Users/gleb/anaconda3/lib/python3.7/site-packages/ipykernel_launcher.py:39: DeprecationWarning: `comb` is deprecated!\n",
      "Importing `comb` from scipy.misc is deprecated in scipy 1.0.0. Use `scipy.special.comb` instead.\n",
      "/Users/gleb/anaconda3/lib/python3.7/site-packages/ipykernel_launcher.py:104: DeprecationWarning: `comb` is deprecated!\n",
      "Importing `comb` from scipy.misc is deprecated in scipy 1.0.0. Use `scipy.special.comb` instead.\n"
     ]
    },
    {
     "name": "stdout",
     "output_type": "stream",
     "text": [
      "[1. 0. 0. 0. 0. 0. 0. 1. 1. 0. 0. 0. 0. 0. 0. 0. 0. 0. 0. 0. 0. 0. 0. 0.\n",
      " 0. 0. 0. 0. 0. 0. 0. 0. 0. 0. 0. 0. 1. 0. 0. 0. 0. 0. 0. 0. 0. 0. 0. 0.\n",
      " 0. 0. 0. 0. 0. 0. 0. 0. 0. 0. 0. 0. 0. 0. 0. 0. 0. 0. 0. 0. 0. 0. 0. 0.\n",
      " 0. 0. 0. 0. 0. 0. 0. 0. 0. 0. 0. 0. 0. 0. 0. 0. 0. 0. 0. 0. 0.]\n",
      "[0. 0. 0. 0. 0. 0. 0. 1. 1. 0. 0. 0. 0. 0. 0. 0. 0. 0. 0. 0. 0. 0. 0. 0.\n",
      " 0. 0. 0. 0. 0. 0. 0. 0. 0. 0. 0. 0. 1. 0. 0. 0. 0. 0. 0. 0. 0. 0. 0. 0.\n",
      " 0. 0. 0. 0. 0. 0. 0. 0. 0. 0. 0. 0. 0. 0. 0. 0. 0. 0. 0. 0. 0. 0. 0. 0.\n",
      " 0. 0. 0. 0. 0. 0. 0. 0. 0. 0. 0. 0. 0. 0. 0. 0. 0. 0. 0. 0. 0.]\n",
      "[0. 0. 0. 0. 0. 0. 0. 1. 1. 0. 0. 0. 0. 0. 0. 0. 0. 0. 0. 0. 0. 0. 0. 0.\n",
      " 0. 0. 0. 0. 0. 0. 0. 0. 0. 0. 0. 0. 0. 0. 0. 0. 0. 0. 0. 0. 0. 0. 0. 0.\n",
      " 0. 0. 0. 0. 0. 0. 0. 0. 0. 0. 0. 0. 0. 0. 0. 0. 0. 0. 0. 0. 0. 0. 0. 0.\n",
      " 0. 0. 0. 0. 0. 0. 0. 0. 0. 0. 0. 0. 0. 0. 0. 0. 0. 0. 0. 0. 0.]\n",
      "[0. 0. 0. 0. 0. 0. 0. 0. 1. 0. 0. 0. 0. 0. 0. 0. 0. 0. 0. 0. 0. 0. 0. 0.\n",
      " 0. 0. 0. 0. 0. 0. 0. 0. 0. 0. 0. 0. 0. 0. 0. 0. 0. 0. 0. 0. 0. 0. 0. 0.\n",
      " 0. 0. 0. 0. 0. 0. 0. 0. 0. 0. 0. 0. 0. 0. 0. 0. 0. 0. 0. 0. 0. 0. 0. 0.\n",
      " 0. 0. 0. 0. 0. 0. 0. 0. 0. 0. 0. 0. 0. 0. 0. 0. 0. 0. 0. 0. 0.]\n",
      "[0. 0. 0. 0. 0. 0. 0. 0. 1. 0. 0. 0. 0. 0. 0. 0. 0. 0. 0. 0. 0. 0. 0. 0.\n",
      " 0. 0. 0. 0. 0. 0. 0. 0. 0. 0. 0. 0. 1. 0. 0. 0. 0. 0. 0. 0. 0. 0. 0. 0.\n",
      " 0. 0. 0. 0. 0. 0. 0. 0. 0. 0. 0. 0. 0. 0. 0. 0. 0. 0. 0. 0. 0. 0. 0. 0.\n",
      " 0. 0. 0. 0. 0. 0. 0. 0. 0. 0. 0. 0. 0. 0. 0. 0. 0. 0. 0. 0. 0.]\n",
      "[0. 0. 0. 0. 0. 0. 0. 0. 1. 0. 0. 0. 0. 0. 0. 0. 0. 0. 0. 0. 0. 0. 0. 0.\n",
      " 0. 0. 0. 0. 0. 0. 0. 0. 0. 0. 0. 0. 1. 0. 0. 0. 0. 0. 0. 0. 0. 0. 0. 0.\n",
      " 0. 0. 0. 0. 0. 0. 0. 0. 0. 0. 0. 0. 0. 0. 0. 0. 0. 0. 0. 0. 0. 0. 0. 0.\n",
      " 0. 0. 0. 0. 0. 0. 0. 0. 0. 0. 0. 0. 0. 0. 0. 0. 0. 0. 0. 0. 0.]\n",
      "[0. 0. 0. 0. 0. 0. 0. 0. 0. 0. 0. 0. 0. 0. 0. 0. 0. 0. 0. 0. 0. 0. 0. 0.\n",
      " 0. 0. 0. 0. 0. 0. 0. 0. 0. 0. 0. 0. 1. 0. 0. 0. 0. 0. 0. 0. 0. 0. 0. 0.\n",
      " 0. 0. 0. 0. 0. 0. 0. 0. 0. 0. 0. 0. 0. 0. 0. 0. 0. 0. 0. 0. 0. 0. 0. 0.\n",
      " 0. 0. 0. 0. 0. 0. 0. 0. 0. 0. 0. 0. 0. 0. 0. 0. 0. 0. 0. 0. 0.]\n",
      "[0. 0. 0. 0. 0. 0. 0. 1. 1. 0. 0. 0. 0. 0. 0. 0. 0. 0. 0. 0. 0. 0. 0. 0.\n",
      " 0. 0. 0. 0. 0. 0. 0. 0. 0. 0. 0. 0. 1. 0. 0. 0. 0. 0. 0. 0. 0. 0. 0. 0.\n",
      " 0. 0. 0. 0. 0. 0. 0. 0. 0. 0. 0. 0. 0. 0. 0. 0. 0. 0. 0. 0. 0. 0. 0. 0.\n",
      " 0. 0. 0. 0. 0. 0. 0. 0. 0. 0. 0. 0. 0. 0. 0. 0. 0. 0. 0. 0. 0.]\n",
      "[1. 0. 0. 0. 0. 0. 0. 0. 0. 0. 0. 0. 0. 0. 0. 0. 0. 0. 0. 0. 0. 0. 0. 0.\n",
      " 0. 0. 0. 0. 0. 0. 0. 0. 0. 0. 0. 0. 0. 0. 0. 0. 0. 0. 0. 0. 0. 0. 0. 0.\n",
      " 0. 0. 0. 0. 0. 0. 0. 0. 0. 0. 0. 0. 0. 0. 0. 0. 0. 0. 0. 0. 0. 0. 0. 0.\n",
      " 0. 0. 0. 0. 0. 0. 0. 0. 0. 0. 0. 0. 0. 0. 0. 0. 0. 0. 0. 0. 0.]\n",
      "[0. 0. 0. 0. 0. 0. 0. 0. 1. 0. 0. 0. 0. 0. 0. 0. 0. 0. 0. 0. 0. 0. 0. 0.\n",
      " 0. 0. 0. 0. 0. 0. 0. 0. 0. 0. 0. 0. 0. 0. 0. 0. 0. 0. 0. 0. 0. 0. 0. 0.\n",
      " 0. 0. 0. 0. 0. 0. 0. 0. 0. 0. 0. 0. 0. 0. 0. 0. 0. 0. 0. 0. 0. 0. 0. 0.\n",
      " 0. 0. 0. 0. 0. 0. 0. 0. 0. 0. 0. 0. 0. 0. 0. 0. 0. 0. 0. 0. 0.]\n"
     ]
    }
   ],
   "source": [
    "for i in range(0,len(message), 2**6):\n",
    "    mes_part = ''\n",
    "    for j in range(i,i+2**6):\n",
    "        mes_part = mes_part + invert(format(int(message[i],16),'04b'))\n",
    "    print(rm.decode(np.array(list(mes_part),dtype =int)))"
   ]
  },
  {
   "cell_type": "code",
   "execution_count": null,
   "metadata": {},
   "outputs": [],
   "source": []
  },
  {
   "cell_type": "code",
   "execution_count": 126,
   "metadata": {},
   "outputs": [
    {
     "data": {
      "text/plain": [
       "10"
      ]
     },
     "execution_count": 126,
     "metadata": {},
     "output_type": "execute_result"
    }
   ],
   "source": [
    "def build_comb(indexes, m):\n",
    "    for i in range(m):\n",
    "        invert(format(int('a',16),'04b'))"
   ]
  },
  {
   "cell_type": "code",
   "execution_count": 93,
   "metadata": {},
   "outputs": [],
   "source": [
    "t = np.array((0,1,4,5),dtype = str)"
   ]
  },
  {
   "cell_type": "code",
   "execution_count": 73,
   "metadata": {},
   "outputs": [
    {
     "data": {
      "text/plain": [
       "array([1, 2, 3])"
      ]
     },
     "execution_count": 73,
     "metadata": {},
     "output_type": "execute_result"
    }
   ],
   "source": [
    "t = '123'\n",
    "np.array(list(t),dtype =int)"
   ]
  },
  {
   "cell_type": "code",
   "execution_count": 109,
   "metadata": {},
   "outputs": [],
   "source": [
    "a = np.array([2**i for i in range(3)])"
   ]
  },
  {
   "cell_type": "code",
   "execution_count": 110,
   "metadata": {},
   "outputs": [
    {
     "data": {
      "text/plain": [
       "17"
      ]
     },
     "execution_count": 110,
     "metadata": {},
     "output_type": "execute_result"
    }
   ],
   "source": [
    "np.dot(t,a)"
   ]
  },
  {
   "cell_type": "code",
   "execution_count": 72,
   "metadata": {},
   "outputs": [
    {
     "data": {
      "text/plain": [
       "['1', '2', '3']"
      ]
     },
     "execution_count": 72,
     "metadata": {},
     "output_type": "execute_result"
    }
   ],
   "source": [
    "list(t)"
   ]
  },
  {
   "cell_type": "code",
   "execution_count": 112,
   "metadata": {},
   "outputs": [
    {
     "data": {
      "text/plain": [
       "array([1, 2, 4])"
      ]
     },
     "execution_count": 112,
     "metadata": {},
     "output_type": "execute_result"
    }
   ],
   "source": [
    "a"
   ]
  },
  {
   "cell_type": "code",
   "execution_count": null,
   "metadata": {},
   "outputs": [],
   "source": []
  }
 ],
 "metadata": {
  "kernelspec": {
   "display_name": "Python 3",
   "language": "python",
   "name": "python3"
  },
  "language_info": {
   "codemirror_mode": {
    "name": "ipython",
    "version": 3
   },
   "file_extension": ".py",
   "mimetype": "text/x-python",
   "name": "python",
   "nbconvert_exporter": "python",
   "pygments_lexer": "ipython3",
   "version": "3.7.1"
  }
 },
 "nbformat": 4,
 "nbformat_minor": 2
}
