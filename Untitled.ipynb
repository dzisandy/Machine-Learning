{
 "cells": [
  {
   "cell_type": "code",
   "execution_count": 1,
   "metadata": {},
   "outputs": [],
   "source": [
    "import numpy as np"
   ]
  },
  {
   "cell_type": "code",
   "execution_count": null,
   "metadata": {},
   "outputs": [],
   "source": [
    "def RPA_RM_BSC(y,m,r, N_max):\n",
    "    for i in range(N_max):\n",
    "        y_B_i = Proj(y,B(i))\n",
    "        if r == 2:\n",
    "            #Fast Hadamard Transformation\n",
    "            pass\n",
    "        else:\n",
    "            y_hat_B_i = RPA_RM_BSC(y_B_i, m-1, r - 1, N_max)\n",
    "        y_hat = Aggregation()\n",
    "        if y == y_hat:\n",
    "            break\n",
    "        y = y_hat\n",
    "    c = y_hat\n",
    "    return c\n",
    "\n",
    "def B(i):\n",
    "    return \n",
    "\n",
    "def Aggregation(y, y_B):\n",
    "    \n",
    "        \n",
    "    "
   ]
  }
 ],
 "metadata": {
  "kernelspec": {
   "display_name": "Python 3",
   "language": "python",
   "name": "python3"
  },
  "language_info": {
   "codemirror_mode": {
    "name": "ipython",
    "version": 3
   },
   "file_extension": ".py",
   "mimetype": "text/x-python",
   "name": "python",
   "nbconvert_exporter": "python",
   "pygments_lexer": "ipython3",
   "version": "3.6.5"
  }
 },
 "nbformat": 4,
 "nbformat_minor": 2
}
