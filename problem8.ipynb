{
 "cells": [
  {
   "cell_type": "code",
   "execution_count": 1,
   "metadata": {},
   "outputs": [],
   "source": [
    "import itertools\n",
    "import numpy as np\n",
    "from scipy.special import comb\n",
    "\n",
    "\n",
    "class ReedMuller:\n",
    "    def __init__(self, m, r):\n",
    "        self.m = m\n",
    "        self.r = r\n",
    "\n",
    "    def encode(self, iwd):\n",
    "        cwd = np.zeros((2**self.m,))\n",
    "        for i, t in enumerate(itertools.product([0, 1], repeat=self.m)):\n",
    "            cwd[i] = self._evaluate_polynomial(iwd, t)\n",
    "        return cwd.astype(np.int)\n",
    "\n",
    "    def cwd_length(self):\n",
    "        # Calculate codeword length\n",
    "        return 2 ** self.m\n",
    "\n",
    "    def iwd_length(self):\n",
    "        # Calculate information word length\n",
    "        iwd_length = 0\n",
    "        for i in range(self.r + 1):\n",
    "            iwd_length += comb(self.m, i)\n",
    "        return int(iwd_length)\n",
    "\n",
    "    #based on https://courses.cs.washington.edu/courses/cse533/06au/lecnotes/lecture8.pdf\n",
    "    def decode(self, received_codeword):\n",
    "        m = self.m\n",
    "        r  = self.r\n",
    "        iwd_hat = np.zeros(self.iwd_length())\n",
    "        while r >= 0:\n",
    "            basis = np.array([2**i for i in range(m - r)])\n",
    "            \n",
    "            for idx in itertools.combinations(range(m), m - r):\n",
    "                b = np.zeros(2**(m - r))\n",
    "                for i, j in enumerate(itertools.product(range(2), repeat=m)): \n",
    "                    if r is not m: \n",
    "                        indx = np.array(j)[np.array(idx)]@basis\n",
    "                        b[indx] += received_codeword[i] \n",
    "                        b[indx] -= self._evaluate_polynomial(iwd_hat,j)\n",
    "                    else:\n",
    "                        b[0] += self._evaluate_polynomial(received_codeword,j)\n",
    "                if ((b%2).sum() > (b%2).shape[0]/2) == True:\n",
    "                    cs = 1\n",
    "                else:\n",
    "                    cs = 0\n",
    "                iwd_hat[self.to_index(idx)] += cs\n",
    "            r -= 1\n",
    "        return iwd_hat\n",
    "\n",
    "    def _evaluate_polynomial(self, poly_coeff, x):\n",
    "        poly_coef_id = 0  # index for polynomial coefficient\n",
    "        poly_val = 0\n",
    "        # Iterate through the monomial power\n",
    "        for monomial_power in range(self.r + 1):\n",
    "            # Iterate all fixed power monomials\n",
    "            for t in itertools.combinations(range(self.m), monomial_power):\n",
    "                # Evaluate monomial value\n",
    "                mono_val = poly_coeff[poly_coef_id]\n",
    "                for j in t:\n",
    "                    mono_val *= x[j]\n",
    "                poly_val += mono_val\n",
    "                poly_coef_id += 1\n",
    "        return np.mod(poly_val, 2)\n",
    "\n",
    "\n",
    "    def to_index(self, indexes):\n",
    "        all_indexes = np.arange(self.m)\n",
    "        com_indexes = []\n",
    "        index = 0\n",
    "        for i in all_indexes:\n",
    "            if i not in indexes:\n",
    "                com_indexes.append(i)\n",
    "        for i in range(len(com_indexes)):\n",
    "            index += comb(self.m, i)\n",
    "        for i,t in enumerate(itertools.combinations(range(self.m), len(com_indexes))):\n",
    "            if list(t) == com_indexes:\n",
    "                index += i\n",
    "                break\n",
    "        return int(index) \n",
    "    \n",
    "\n",
    "def array_to_string(array):\n",
    "    string = ''\n",
    "    for item in array:\n",
    "        string += str(int(item))\n",
    "    return string\n",
    "\n",
    "\n",
    "def msg_to_cdw(msg):\n",
    "    c = ''\n",
    "    for item in msg:\n",
    "        c += (format(int(item,16),'04b'))[::-1] \n",
    "    return c\n",
    "\n",
    "def bin_to_hex(vector):\n",
    "    final = ''\n",
    "    array = [(array_to_string(vector))[i:i+4] for i in range(0,len(vector),4)]\n",
    "    for item in array:\n",
    "        final += hex(int((item)[::-1],2))[2:]\n",
    "    return final"
   ]
  },
  {
   "cell_type": "code",
   "execution_count": 2,
   "metadata": {},
   "outputs": [],
   "source": [
    "message = '162ad9b04a86e37a649b97c20b0461c49d6df8a2f20df1a4e0d34620bc8083eae04ff8579b5dd91fef7c5dcea8adbfba02a2d6894a7cc40da73b2645d326f7fd6cdd8893aa14283cd8c3aae4ee0505bb7ef330e8ed6fc512a37b7b093f177efca4680da74c4c8c15cb080b51d323851345dc20df085dfb37e97fe5eaab0ece0d20ced9aec21f6e2a10cd16ad9b75c84015a1d0fd522ac223d5adeff1fb4f94462f7a62382983570da2c4e0890e977f165208ba1068cdb319b6205137264ff2948eb7284b69503053b44e48e835303669f39099a0d7b4427b0a55c5c0b717877de9eaa8014329c101801afd32bcb0025b2919a4c126809764d98f976bbf80cd58ff8b12cc2d6a0c1e77033f1e0f487499b80f5ab8a62277599ad222c02e555a74a1b6b057dcf8c21640ceaed03d80236e26643785cdbc2cad6d497ca88691987f'\n",
    "c = msg_to_cdw(message)\n",
    "constr = ReedMuller(8,3)\n",
    "cdw = np.array([int(c[i]) for i in range(len(c))])\n",
    "split = np.hsplit(cdw,10)\n",
    "\n",
    "vector = {'inf': np.array([]),\n",
    "         'cdw': np.array([]),\n",
    "         'err': np.array([])\n",
    "        }\n",
    "for item in split :\n",
    "    current = constr.decode(item)\n",
    "    vector['inf'] = np.hstack([vector['inf'],current])\n",
    "    vector['cdw'] = np.hstack([vector['cdw'], constr.encode(current)])\n",
    "vector['err'] = (vector['cdw'] - cdw)%2"
   ]
  },
  {
   "cell_type": "code",
   "execution_count": 3,
   "metadata": {},
   "outputs": [
    {
     "name": "stdout",
     "output_type": "stream",
     "text": [
      "For information vector in binary format:\n"
     ]
    },
    {
     "data": {
      "text/plain": [
       "'101101111010010011010001101111011000101010001010100101010110010111011001100111001100011000001000110011010001110110010000011110111101000101010101010010111110000111000001011111010001110101011001011010111111011000010001101001010111100001100111010111100111100100100111000100010110110000000001000111110011100011010101011010011010101001000100111100111110011011110101110111000001011010001101101001111011011100001101100110001101011010111000111100001010000010101010111100011010001101010000000110011000011000101100111100110110110001100001010001001110100001101001110001011001000000100001011010111100101011111111000110001010101101011010111011000000001111011000100000000111100101011111100001011010000111101111101101001010001111111001100001101110000010111001100101000000011000000001101011110000001100110010110011010110001110100000110100100010011011010000111101010110001111101000101101110001100110111000000100110000000001100101000100111000011111'"
      ]
     },
     "execution_count": 3,
     "metadata": {},
     "output_type": "execute_result"
    }
   ],
   "source": [
    "print('For information vector in binary format:')\n",
    "array_to_string(vector['inf'])"
   ]
  },
  {
   "cell_type": "code",
   "execution_count": 4,
   "metadata": {},
   "outputs": [
    {
     "name": "stdout",
     "output_type": "stream",
     "text": [
      "For information vector in hex format:\n"
     ]
    },
    {
     "data": {
      "text/plain": [
       "'de52b8db15159a6ab99336013b8b90edb8aa2d7838eb8ba96df6885ae16ea7e94e8863088fc1ba695522fc76fab3861b5ede0b91b6d1f05055f85ca0891643fc63682271693a90486d35ff815da5730cb110e9af1a587fd25cf91670d99206085f0cc43b6c50b446b0fa6c71de89d18c006a8c1e3'"
      ]
     },
     "execution_count": 4,
     "metadata": {},
     "output_type": "execute_result"
    }
   ],
   "source": [
    "print('For information vector in hex format:')\n",
    "bin_to_hex(vector['inf'])\n"
   ]
  },
  {
   "cell_type": "code",
   "execution_count": 5,
   "metadata": {},
   "outputs": [
    {
     "name": "stdout",
     "output_type": "stream",
     "text": [
      "For error vector:\n"
     ]
    },
    {
     "data": {
      "text/plain": [
       "'0000000000000000000000000000000000000000000000000000000000000000000000000000000000000000000000000000000000000000000000000000000000000000000000000000000000000000000000000000000000000000000000000000000000000000000000000000000000000000000000000000000000000000000000000000000000000000000000000000000000000000000000000000000000000000000000000000000000000000000000000000000000000000000000000000000000000000000000000000000000000000000000000000000000000000000000000000000000000000000000000000000000000000000000000000000000000000000000000000000000000000000000000000000000000000000000000000000000000000000000000000000000000000000000000000000000000000000000000000000000000000000000000000000000000000000000000000000000000000000000000000000000000000000000000000000000000000000000000000000000000000000000000000000000000000000000000000000000000000000000000000000000000000000000000000000000000000000000000000000000000000000000000000000000000000000000000000000000000000000000000000000000000000000000000000000000000000000000000000000000000000000000000000000000000000000000000000000000000000000000000000000000000000000000000000000000000000000000000000000000000000000000000000000000000000000000000000000000000000000000000000000000000000000000000000000000000000000000000000000000000000000000000000000000000000000000000000000000000000000000000000000000000000000000000000000000000000000000000000000000000000000000000000000000000000000000000000000000000000000000000000000000000000000000000000000000000000000000000000000000000000000000000000000000000000000000000000000000000000000000000000000000000000000000000000000000000000000000000000000000000000000000000000000000000000000000000000000000000000000000000000000000000000000000000000000000000000000000000000000000000000000000000000000000000000000000000000000000000000000000000000000000000000000000000000000000000000000000000000000000000000000000000000000000000000000000000000000000000000000000000000000000000000000000000000000000000000000000000000000000000000000000000000000000000000000000000000000000000000000000000000000000000000000000000000000000000000000000000000000000000000000000000000000000000000000000000000000000000000000000000000000000000000000000000000000000000000000000000000000000000000000000000000000000000000000000000000000000000000000000000000000000000000000000000000000000000000000000000000000000000000000000000000000000000000000000000000000000000000000000000000000000000000000000000000000000000000000000000000000000000000000000000000000000000000000000000000000000000000000000000000000000000000000000000000000000000000'"
      ]
     },
     "execution_count": 5,
     "metadata": {},
     "output_type": "execute_result"
    }
   ],
   "source": [
    "print('For error vector:')\n",
    "array_to_string(vector['err'])"
   ]
  }
 ],
 "metadata": {
  "kernelspec": {
   "display_name": "Python 3",
   "language": "python",
   "name": "python3"
  },
  "language_info": {
   "codemirror_mode": {
    "name": "ipython",
    "version": 3
   },
   "file_extension": ".py",
   "mimetype": "text/x-python",
   "name": "python",
   "nbconvert_exporter": "python",
   "pygments_lexer": "ipython3",
   "version": "3.6.5"
  }
 },
 "nbformat": 4,
 "nbformat_minor": 2
}
