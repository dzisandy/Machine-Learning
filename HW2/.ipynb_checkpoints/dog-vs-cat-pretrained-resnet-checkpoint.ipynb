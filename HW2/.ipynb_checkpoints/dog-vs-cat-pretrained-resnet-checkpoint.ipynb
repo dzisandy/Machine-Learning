{
 "cells": [
  {
   "cell_type": "code",
   "execution_count": null,
   "metadata": {
    "_cell_guid": "b1076dfc-b9ad-4769-8c92-a6c4dae69d19",
    "_uuid": "8f2839f25d086af736a60e9eeb907d3b93b6e0e5"
   },
   "outputs": [],
   "source": [
    "import numpy as np\n",
    "import pandas as pd\n",
    "import os\n",
    "import glob\n",
    "\n",
    "from PIL import Image\n",
    "\n",
    "import torch \n",
    "from torch import nn, optim\n",
    "from torch.utils.data import Dataset, DataLoader\n",
    "import torchvision.transforms as trans\n",
    "from torchvision import models"
   ]
  },
  {
   "cell_type": "code",
   "execution_count": null,
   "metadata": {
    "_uuid": "90e2069b5818c1de989b69a25a39e115cb3139e7"
   },
   "outputs": [],
   "source": [
    "train_images = list(glob.iglob('../input/train/*.jpg'))"
   ]
  },
  {
   "cell_type": "code",
   "execution_count": null,
   "metadata": {
    "_uuid": "cdc95e62bd46debc179d362f856321e317c7f715"
   },
   "outputs": [],
   "source": [
    "transforms = trans.Compose([\n",
    "    trans.RandomResizedCrop(224),\n",
    "    trans.ToTensor()\n",
    "])\n",
    "\n",
    "class DogCatDataset:\n",
    "    def __init__(self, images, train=True, transform=None):\n",
    "        df = pd.DataFrame({'path': images})\n",
    "        if train:\n",
    "            df['label'] = df.path.map(lambda x: x.split('/')[-1].split('.')[0])\n",
    "            df['id'] = df.path.map(lambda x: x.split('/')[-1].split('.')[1])\n",
    "        else:\n",
    "            df['id'] = df.path.map(lambda x: x.split('/')[-1].split('.')[0])\n",
    "\n",
    "        self.train = train\n",
    "        self.df = df\n",
    "        self.transform = transform\n",
    "    \n",
    "    def __len__(self):\n",
    "        return len(self.df)\n",
    "    \n",
    "    def __getitem__(self, i):\n",
    "        img = Image.open(self.df.at[i, 'path'])\n",
    "        \n",
    "        if self.train:\n",
    "            y = 1 if self.df.at[i, 'label'] == 'dog' else 0\n",
    "        else:\n",
    "            y = self.df.at[i, 'id'].astype('str')\n",
    "        \n",
    "        if self.transform:\n",
    "            img = self.transform(img)\n",
    "        return img, y"
   ]
  },
  {
   "cell_type": "code",
   "execution_count": null,
   "metadata": {
    "_uuid": "ee4e9240daa3ff46adcaff4bdde1dd3f7eca79d0"
   },
   "outputs": [],
   "source": [
    "train_dataset = DogCatDataset(train_images, transform=transforms)\n",
    "train_dl = DataLoader(train_dataset, batch_size=4, shuffle=True, num_workers=0)"
   ]
  },
  {
   "cell_type": "code",
   "execution_count": null,
   "metadata": {
    "_uuid": "97e2d405a35dfaa695c3cab7fbb9b74cfef2d919"
   },
   "outputs": [],
   "source": [
    "model = models.resnet18(pretrained=True)\n",
    "num_ftrs = model.fc.in_features\n",
    "model.fc = nn.Linear(num_ftrs, 2)\n",
    "input_size = 224"
   ]
  },
  {
   "cell_type": "code",
   "execution_count": null,
   "metadata": {
    "_uuid": "b298473bd2f4941098d20ce424f5245375b23f61"
   },
   "outputs": [],
   "source": [
    "device = torch.device('cuda') if torch.cuda.is_available() else torch.device('cpu')\n",
    "model = model.to(device)\n",
    "criterion = nn.CrossEntropyLoss()"
   ]
  },
  {
   "cell_type": "code",
   "execution_count": null,
   "metadata": {
    "_uuid": "ba5f5f2427e9c7ef408d7ee595dd8c40f6fec27c"
   },
   "outputs": [],
   "source": [
    "optimizer = optim.Adam(model.parameters())"
   ]
  },
  {
   "cell_type": "code",
   "execution_count": null,
   "metadata": {
    "_uuid": "e697f5e7d80c48582d01959aea28cefb2edcbf10"
   },
   "outputs": [],
   "source": [
    "def train(e):\n",
    "    model.train()\n",
    "    l = a = n = 0\n",
    "    for i, (X, Y) in enumerate(train_dl):\n",
    "        optimizer.zero_grad()\n",
    "        X = X.to(device)\n",
    "        Y = Y.to(device)\n",
    "        preds = model(X)\n",
    "        loss = criterion(preds, Y)\n",
    "        loss.backward()\n",
    "        optimizer.step()\n",
    "        \n",
    "        l += loss.item()\n",
    "        a += (preds.argmax(dim=1) == Y).sum().item() / Y.shape[0]\n",
    "        n += 1\n",
    "        if (i+1) % 100 == 0:\n",
    "            print(f\"Epoch {e} Iter {i+1} Loss {l/n} Accuracy {a/n}\")\n",
    "            l = n = a = 0"
   ]
  },
  {
   "cell_type": "code",
   "execution_count": null,
   "metadata": {
    "_uuid": "3c1c846110034620f8ccb6101e99402724139533"
   },
   "outputs": [],
   "source": [
    "for i in range(5):\n",
    "    train(5)"
   ]
  }
 ],
 "metadata": {
  "kernelspec": {
   "display_name": "Python 3",
   "language": "python",
   "name": "python3"
  },
  "language_info": {
   "codemirror_mode": {
    "name": "ipython",
    "version": 3
   },
   "file_extension": ".py",
   "mimetype": "text/x-python",
   "name": "python",
   "nbconvert_exporter": "python",
   "pygments_lexer": "ipython3",
   "version": "3.6.6"
  }
 },
 "nbformat": 4,
 "nbformat_minor": 1
}
